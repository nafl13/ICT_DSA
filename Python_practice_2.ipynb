{
  "nbformat": 4,
  "nbformat_minor": 0,
  "metadata": {
    "colab": {
      "provenance": [],
      "authorship_tag": "ABX9TyOe1W8n6oUXLxsyOQhm4JH4",
      "include_colab_link": true
    },
    "kernelspec": {
      "name": "python3",
      "display_name": "Python 3"
    },
    "language_info": {
      "name": "python"
    }
  },
  "cells": [
    {
      "cell_type": "markdown",
      "metadata": {
        "id": "view-in-github",
        "colab_type": "text"
      },
      "source": [
        "<a href=\"https://colab.research.google.com/github/nafl13/ICT_DSA/blob/Assignments/Python_practice_2.ipynb\" target=\"_parent\"><img src=\"https://colab.research.google.com/assets/colab-badge.svg\" alt=\"Open In Colab\"/></a>"
      ]
    },
    {
      "cell_type": "code",
      "execution_count": 2,
      "metadata": {
        "colab": {
          "base_uri": "https://localhost:8080/"
        },
        "id": "E6PqzVP_cCX3",
        "outputId": "385bd46c-d588-4729-a9d6-3b88368858de"
      },
      "outputs": [
        {
          "output_type": "stream",
          "name": "stdout",
          "text": [
            "Enter a string value: assembly\n",
            "a=1, s=2, e=1, m=1, b=1, l=1, y=1\n"
          ]
        }
      ],
      "source": [
        "text = input(\"Enter a string value: \")\n",
        "char_count = {}\n",
        "for char in text:\n",
        "  if char in char_count:\n",
        "    char_count[char] += 1\n",
        "  else:\n",
        "    char_count[char] = 1\n",
        "output = \", \".join([f\"{char}={count}\" for char, count in char_count.items()])\n",
        "print(output)\n"
      ]
    },
    {
      "cell_type": "code",
      "source": [
        "def find_max(a, b, c):\n",
        "    if a >= b and a >= c:\n",
        "        return a\n",
        "    elif b >= a and b >= c:\n",
        "        return b\n",
        "    else:\n",
        "        return c\n",
        "num1 = int(input(\"Enter number 1: \"))\n",
        "num2 = int(input(\"Enter number 2: \"))\n",
        "num3 = int(input(\"Enter number 3: \"))\n",
        "\n",
        "max_num = find_max(num1, num2, num3)\n",
        "print(\"The maximum number is:\", max_num)\n"
      ],
      "metadata": {
        "colab": {
          "base_uri": "https://localhost:8080/"
        },
        "id": "A8nLx8_ccVlz",
        "outputId": "02983adb-0ebf-4991-f37a-ab5fc7e71e5f"
      },
      "execution_count": 14,
      "outputs": [
        {
          "output_type": "stream",
          "name": "stdout",
          "text": [
            "Enter number 1: 37\n",
            "Enter number 2: 12\n",
            "Enter number 3: 7\n",
            "The maximum number is: 37\n"
          ]
        }
      ]
    },
    {
      "cell_type": "code",
      "source": [
        "def exponent(base, exp):\n",
        "    result = 1\n",
        "    for _ in range(exp):\n",
        "        result *= base\n",
        "    return result\n",
        "base = int(input(\"Enter the base: \"))\n",
        "exp = int(input(\"Enter the exponent: \"))\n",
        "print(exponent(base, exp))"
      ],
      "metadata": {
        "colab": {
          "base_uri": "https://localhost:8080/"
        },
        "id": "jbPcrVfAc7cS",
        "outputId": "5d679943-42ce-4e26-efc4-1dc0736e40bc"
      },
      "execution_count": 4,
      "outputs": [
        {
          "output_type": "stream",
          "name": "stdout",
          "text": [
            "Enter the base: 2\n",
            "Enter the exponent: 3\n",
            "8\n"
          ]
        }
      ]
    },
    {
      "cell_type": "code",
      "source": [
        "def sum_of_cubes(n):\n",
        "    total_sum = 0\n",
        "    for i in range(1, n):\n",
        "        total_sum += i ** 3\n",
        "    return total_sum\n",
        "number = int(input(\"Enter a positive integer: \"))\n",
        "print(sum_of_cubes(number))\n"
      ],
      "metadata": {
        "colab": {
          "base_uri": "https://localhost:8080/"
        },
        "id": "rjOqIVScdSnt",
        "outputId": "2f6b05da-e57d-4608-d6c4-3f23ded8ea9b"
      },
      "execution_count": 5,
      "outputs": [
        {
          "output_type": "stream",
          "name": "stdout",
          "text": [
            "Enter a positive integer: 4\n",
            "36\n"
          ]
        }
      ]
    },
    {
      "cell_type": "code",
      "source": [
        "for num in range(1, 11):\n",
        "    if num % 2 == 0 and num % 5 == 0:\n",
        "        print(\"FizzBuzz\", end=' ')\n",
        "    elif num % 2 == 0:\n",
        "        print(\"Fizz\", end=' ')\n",
        "    elif num % 5 == 0:\n",
        "        print(\"Buzz\", end=' ')\n",
        "    else:\n",
        "        print(num, end=' ')\n"
      ],
      "metadata": {
        "colab": {
          "base_uri": "https://localhost:8080/"
        },
        "id": "Fel7n2HndjYS",
        "outputId": "352343d7-d974-4c5c-b95e-7e677f2427bf"
      },
      "execution_count": 6,
      "outputs": [
        {
          "output_type": "stream",
          "name": "stdout",
          "text": [
            "1 Fizz 3 Fizz Buzz Fizz 7 Fizz 9 FizzBuzz "
          ]
        }
      ]
    },
    {
      "cell_type": "code",
      "source": [
        "numbers_list = []\n",
        "num_elements = int(input(\"Enter the number of elements: \"))\n",
        "for _ in range(num_elements):\n",
        "    number = int(input(\"Enter a number: \"))\n",
        "    numbers_list.append(number)\n",
        "frequency = {}\n",
        "for number in numbers_list:\n",
        "    if number in frequency:\n",
        "        frequency[number] += 1\n",
        "    else:\n",
        "        frequency[number] = 1\n",
        "most_frequent = None\n",
        "max_count = 0\n",
        "\n",
        "for number, count in frequency.items():\n",
        "    if count > max_count:\n",
        "        most_frequent = number\n",
        "        max_count = count\n",
        "print(most_frequent)\n"
      ],
      "metadata": {
        "colab": {
          "base_uri": "https://localhost:8080/"
        },
        "id": "FpTfW2ksd5fd",
        "outputId": "000ce975-3fe1-4fc3-a819-0cd6ea6f5aae"
      },
      "execution_count": 8,
      "outputs": [
        {
          "output_type": "stream",
          "name": "stdout",
          "text": [
            "Enter the number of elements: 6\n",
            "Enter a number: 2\n",
            "Enter a number: 3\n",
            "Enter a number: 4\n",
            "Enter a number: 2\n",
            "Enter a number: 5\n",
            "Enter a number: 2\n",
            "2\n"
          ]
        }
      ]
    },
    {
      "cell_type": "code",
      "source": [
        "numbers_list = []\n",
        "\n",
        "num_elements = int(input(\"Enter the number of elements: \"))\n",
        "\n",
        "for _ in range(num_elements):\n",
        "    number = int(input(\"Enter a number: \"))\n",
        "    numbers_list.append(number)\n",
        "\n",
        "sum_of_squares = 0\n",
        "for number in numbers_list:\n",
        "    sum_of_squares += number ** 2\n",
        "\n",
        "print(\"Sum of squares:\", sum_of_squares)\n"
      ],
      "metadata": {
        "colab": {
          "base_uri": "https://localhost:8080/"
        },
        "id": "ptgEgJKReg0-",
        "outputId": "71e519f4-f677-4cd8-8790-b742120a1e50"
      },
      "execution_count": 9,
      "outputs": [
        {
          "output_type": "stream",
          "name": "stdout",
          "text": [
            "Enter the number of elements: 4\n",
            "Enter a number: 2\n",
            "Enter a number: 1\n",
            "Enter a number: 3\n",
            "Enter a number: 1\n",
            "Sum of squares: 15\n"
          ]
        }
      ]
    },
    {
      "cell_type": "code",
      "source": [
        "for num in range(1, 16):\n",
        "    if num % 2 == 0:\n",
        "        print(f\"{num}-even\")\n",
        "    else:\n",
        "        print(f\"{num}-odd\")\n"
      ],
      "metadata": {
        "colab": {
          "base_uri": "https://localhost:8080/"
        },
        "id": "sldk61A8fTmP",
        "outputId": "3aa0f97f-b044-4177-e00e-c966e58979d2"
      },
      "execution_count": 10,
      "outputs": [
        {
          "output_type": "stream",
          "name": "stdout",
          "text": [
            "1-odd\n",
            "2-even\n",
            "3-odd\n",
            "4-even\n",
            "5-odd\n",
            "6-even\n",
            "7-odd\n",
            "8-even\n",
            "9-odd\n",
            "10-even\n",
            "11-odd\n",
            "12-even\n",
            "13-odd\n",
            "14-even\n",
            "15-odd\n"
          ]
        }
      ]
    },
    {
      "cell_type": "code",
      "source": [
        "def celsius_to_fahrenheit(celsius):\n",
        "    fahrenheit = (celsius * 9/5) + 32\n",
        "    return fahrenheit\n",
        "def fahrenheit_to_celsius(fahrenheit):\n",
        "    celsius = (fahrenheit - 32) * 5/9\n",
        "    return celsius\n",
        "choice = input(\"Select your option: \\n 1 to convert Celsius to Fahrenheit \\n 2 to convert Fahrenheit to Celsius \\n \")\n",
        "\n",
        "if choice == '1':\n",
        "    celsius = float(input(\"Enter temperature in Celsius: \"))\n",
        "    fahrenheit = celsius_to_fahrenheit(celsius)\n",
        "    print(f\"Temperature in Fahrenheit: {fahrenheit:.2f}\")\n",
        "\n",
        "elif choice == '2':\n",
        "    fahrenheit = float(input(\"Enter temperature in Fahrenheit: \"))\n",
        "    celsius = fahrenheit_to_celsius(fahrenheit)\n",
        "    print(f\"Temperature in Celsius: {celsius:.2f}\")\n",
        "\n",
        "else:\n",
        "    print(\"Invalid input. Please enter 1 or 2.\")\n"
      ],
      "metadata": {
        "colab": {
          "base_uri": "https://localhost:8080/"
        },
        "id": "0ODkHS_IgyJE",
        "outputId": "8daaab1c-1945-4f2e-9572-f85dff10833f"
      },
      "execution_count": 11,
      "outputs": [
        {
          "output_type": "stream",
          "name": "stdout",
          "text": [
            "Select your option: \n",
            " 1 to convert Celsius to Fahrenheit \n",
            " 2 to convert Fahrenheit to Celsius \n",
            " 2\n",
            "Enter temperature in Fahrenheit: 41\n",
            "Temperature in Celsius: 5.00\n"
          ]
        }
      ]
    },
    {
      "cell_type": "code",
      "source": [
        "def factorial(n):\n",
        "    result = 1\n",
        "    for i in range(1, n + 1):\n",
        "        result *= i\n",
        "    return result\n",
        "\n",
        "number = int(input(\"Enter a non-negative integer: \"))\n",
        "\n",
        "if number < 0:\n",
        "    print(\"Please enter a non-negative integer.\")\n",
        "else:\n",
        "    print(\"Factorial:\", factorial(number))\n"
      ],
      "metadata": {
        "colab": {
          "base_uri": "https://localhost:8080/"
        },
        "id": "zWYSkWa9gynP",
        "outputId": "ab0fdf62-5133-4088-db76-c352e8c940e4"
      },
      "execution_count": 13,
      "outputs": [
        {
          "output_type": "stream",
          "name": "stdout",
          "text": [
            "Enter a non-negative integer: 3\n",
            "Factorial: 6\n"
          ]
        }
      ]
    },
    {
      "cell_type": "code",
      "source": [],
      "metadata": {
        "id": "BJwBt0BbhI_Y"
      },
      "execution_count": null,
      "outputs": []
    }
  ]
}