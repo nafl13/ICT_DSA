{
  "nbformat": 4,
  "nbformat_minor": 0,
  "metadata": {
    "colab": {
      "provenance": [],
      "include_colab_link": true
    },
    "kernelspec": {
      "name": "python3",
      "display_name": "Python 3"
    },
    "language_info": {
      "name": "python"
    }
  },
  "cells": [
    {
      "cell_type": "markdown",
      "metadata": {
        "id": "view-in-github",
        "colab_type": "text"
      },
      "source": [
        "<a href=\"https://colab.research.google.com/github/nafl13/ICT_DSA/blob/Daily_tasks/Numpy_DT.ipynb\" target=\"_parent\"><img src=\"https://colab.research.google.com/assets/colab-badge.svg\" alt=\"Open In Colab\"/></a>"
      ]
    },
    {
      "cell_type": "markdown",
      "source": [
        "Q1"
      ],
      "metadata": {
        "id": "O8WtMQWOxBh0"
      }
    },
    {
      "cell_type": "code",
      "source": [
        "import numpy as np"
      ],
      "metadata": {
        "id": "CU7-_NXmnxJt"
      },
      "execution_count": null,
      "outputs": []
    },
    {
      "cell_type": "code",
      "source": [
        "def find_max(num1,num2,num3):\n",
        "  if num1>num2 and num1>num3:\n",
        "    print('max number is: ',num1)\n",
        "  elif num2>num1 and num2>num3:\n",
        "    print('max number is: ',num2)\n",
        "  else:\n",
        "    print('max number is: ',num3)"
      ],
      "metadata": {
        "id": "N3deZ46wczmf"
      },
      "execution_count": null,
      "outputs": []
    },
    {
      "cell_type": "code",
      "source": [
        "num1=10\n",
        "num2=50\n",
        "num3=20\n",
        "find_max(num1,num2,num3)\n",
        "\n",
        "\n"
      ],
      "metadata": {
        "colab": {
          "base_uri": "https://localhost:8080/"
        },
        "id": "Ibrj-gIGdvxm",
        "outputId": "da242bdf-874f-46c1-c656-59c1b8fc0350"
      },
      "execution_count": null,
      "outputs": [
        {
          "output_type": "stream",
          "name": "stdout",
          "text": [
            "max number is:  50\n"
          ]
        }
      ]
    },
    {
      "cell_type": "markdown",
      "source": [
        "Q2"
      ],
      "metadata": {
        "id": "22zDSMajyL20"
      }
    },
    {
      "cell_type": "code",
      "source": [
        "def area_circle():\n",
        "  r=int(input('Enter the radius: '))\n",
        "  pi=3.14\n",
        "  print('area= ',pi*r**2)\n",
        "\n"
      ],
      "metadata": {
        "id": "-yug8CBUxb64"
      },
      "execution_count": null,
      "outputs": []
    },
    {
      "cell_type": "code",
      "source": [
        "area_circle()"
      ],
      "metadata": {
        "colab": {
          "base_uri": "https://localhost:8080/"
        },
        "id": "IkRo9fLTgdmg",
        "outputId": "46a8b5c8-e7cf-4346-af37-30b39cbf3689"
      },
      "execution_count": null,
      "outputs": [
        {
          "output_type": "stream",
          "name": "stdout",
          "text": [
            "Enter the radius: 5\n",
            "area=  78.5\n"
          ]
        }
      ]
    },
    {
      "cell_type": "markdown",
      "source": [
        "Q3"
      ],
      "metadata": {
        "id": "q4Wm6_S2gx0N"
      }
    },
    {
      "cell_type": "code",
      "source": [
        "def is_prime():\n",
        "  num=int(input('Enter the number: '))\n",
        "  if num <= 1:\n",
        "     return False\n",
        "  for i in range(2, int(num**0.5) + 1):\n",
        "     if num % i == 0:\n",
        "      return False\n",
        "  return True"
      ],
      "metadata": {
        "id": "ehsi_ND7g0N8"
      },
      "execution_count": null,
      "outputs": []
    },
    {
      "cell_type": "code",
      "source": [
        "is_prime()"
      ],
      "metadata": {
        "colab": {
          "base_uri": "https://localhost:8080/"
        },
        "id": "TZK4HR-EhdFA",
        "outputId": "70d69279-8f0b-45a3-b6a5-62ced3b2a351"
      },
      "execution_count": null,
      "outputs": [
        {
          "name": "stdout",
          "output_type": "stream",
          "text": [
            "Enter the number: 10\n"
          ]
        },
        {
          "output_type": "execute_result",
          "data": {
            "text/plain": [
              "False"
            ]
          },
          "metadata": {},
          "execution_count": 26
        }
      ]
    },
    {
      "cell_type": "markdown",
      "source": [
        "Q4"
      ],
      "metadata": {
        "id": "pJKezOvezhid"
      }
    },
    {
      "cell_type": "code",
      "source": [
        "#pallindrone\n",
        "def is_pallindrone():\n",
        "  w=input(\"Enter the word: \")\n",
        "  w=w.replace(\" \",\"\")\n",
        "  if w==w[::-1]:\n",
        "    return True\n",
        "  else:\n",
        "    return False\n",
        "\n",
        "\n",
        "\n",
        "\n",
        "\n"
      ],
      "metadata": {
        "id": "WOXLofTw1IyL"
      },
      "execution_count": null,
      "outputs": []
    },
    {
      "cell_type": "code",
      "source": [
        "is_pallindrone()"
      ],
      "metadata": {
        "colab": {
          "base_uri": "https://localhost:8080/"
        },
        "id": "e_9laU7MilE_",
        "outputId": "a9cd3ca5-cb8c-4e13-97fd-2d11916eb3a5"
      },
      "execution_count": null,
      "outputs": [
        {
          "name": "stdout",
          "output_type": "stream",
          "text": [
            "Enter the word: abc\n"
          ]
        },
        {
          "output_type": "execute_result",
          "data": {
            "text/plain": [
              "False"
            ]
          },
          "metadata": {},
          "execution_count": 30
        }
      ]
    },
    {
      "cell_type": "markdown",
      "source": [
        "Q5"
      ],
      "metadata": {
        "id": "SesN2qET3aTj"
      }
    },
    {
      "cell_type": "code",
      "source": [
        "def sum(l):\n",
        "  total=0\n",
        "  for i in l:\n",
        "    total+=i\n",
        "  return total\n",
        "\n",
        "\n"
      ],
      "metadata": {
        "id": "EQWUW4_R24BT"
      },
      "execution_count": null,
      "outputs": []
    },
    {
      "cell_type": "code",
      "source": [
        "l=[1,2,3,4,5]\n",
        "sum(l)\n"
      ],
      "metadata": {
        "id": "zpoWpPgi34A3",
        "colab": {
          "base_uri": "https://localhost:8080/"
        },
        "outputId": "52605104-89eb-4f65-e352-064cd3bbcab9"
      },
      "execution_count": null,
      "outputs": [
        {
          "output_type": "execute_result",
          "data": {
            "text/plain": [
              "15"
            ]
          },
          "metadata": {},
          "execution_count": 38
        }
      ]
    },
    {
      "cell_type": "markdown",
      "source": [
        "Q6"
      ],
      "metadata": {
        "id": "5ND4zXeB4nrF"
      }
    },
    {
      "cell_type": "code",
      "source": [
        "def avg(a):\n",
        "  total=0\n",
        "  for i in a:\n",
        "    total+=i\n",
        "    return total/len(a)"
      ],
      "metadata": {
        "id": "DlCl7ZU74rgF"
      },
      "execution_count": null,
      "outputs": []
    },
    {
      "cell_type": "code",
      "source": [
        "a=[1,2,3,4,5]\n",
        "avg(a)\n"
      ],
      "metadata": {
        "colab": {
          "base_uri": "https://localhost:8080/"
        },
        "id": "OjZRfELsmPaQ",
        "outputId": "62da844a-3001-47bc-c82b-8c5cebc55920"
      },
      "execution_count": null,
      "outputs": [
        {
          "output_type": "execute_result",
          "data": {
            "text/plain": [
              "0.2"
            ]
          },
          "metadata": {},
          "execution_count": 42
        }
      ]
    },
    {
      "cell_type": "markdown",
      "source": [
        "Q7"
      ],
      "metadata": {
        "id": "iy7rHx96iIwS"
      }
    },
    {
      "cell_type": "code",
      "source": [
        "arr = [12, 15, 7, 3, 8, 16, 25]\n",
        "def kth_largest_element(k):\n",
        "    global arr\n",
        "    arr.sort(reverse = True)\n",
        "    return arr[k-1]\n",
        "k = 5\n",
        "print(f\"The {k}th largest element = {kth_largest_element(k)}\")\n"
      ],
      "metadata": {
        "colab": {
          "base_uri": "https://localhost:8080/"
        },
        "id": "mfiQIEpAiLb6",
        "outputId": "2295ae00-2882-461a-cef2-0c0c2e499ac1"
      },
      "execution_count": null,
      "outputs": [
        {
          "output_type": "stream",
          "name": "stdout",
          "text": [
            "The 5th largest element = 8\n"
          ]
        }
      ]
    },
    {
      "cell_type": "markdown",
      "source": [
        "Q8"
      ],
      "metadata": {
        "id": "cWr9pmjBikT9"
      }
    },
    {
      "cell_type": "code",
      "source": [
        "def sum_of_digit(n):\n",
        "    if n< 10:\n",
        "        return n\n",
        "    else:\n",
        "        return n%10 + sum_of_digit(n/10)\n",
        "number = int(input(\"Enter number: \"))\n",
        "digit_sum = sum_of_digit(number)\n",
        "print(\"Sum of digit of number %d is %d.\" % (number,digit_sum))"
      ],
      "metadata": {
        "colab": {
          "base_uri": "https://localhost:8080/"
        },
        "id": "A2Fkcnuuinqt",
        "outputId": "84faf877-c713-4071-c1e0-b91a6adaf12f"
      },
      "execution_count": null,
      "outputs": [
        {
          "output_type": "stream",
          "name": "stdout",
          "text": [
            "Enter number: 123\n",
            "Sum of digit of number 123 is 6.\n"
          ]
        }
      ]
    },
    {
      "cell_type": "markdown",
      "source": [
        "Q9"
      ],
      "metadata": {
        "id": "Z7vR7urRi6QP"
      }
    },
    {
      "cell_type": "code",
      "source": [
        "def CalculatePower(N,X):\n",
        "  P=1\n",
        "  for i in range(1, X+1):\n",
        "    P=P*N\n",
        "  return P\n",
        "\n",
        "N,X=10,3\n",
        "print(CalculatePower(N,X))"
      ],
      "metadata": {
        "colab": {
          "base_uri": "https://localhost:8080/"
        },
        "id": "glMczFKUi7qv",
        "outputId": "ffa4299c-f087-48b4-c188-a50f754f9dbf"
      },
      "execution_count": null,
      "outputs": [
        {
          "output_type": "stream",
          "name": "stdout",
          "text": [
            "1000\n"
          ]
        }
      ]
    },
    {
      "cell_type": "markdown",
      "source": [
        "Q10"
      ],
      "metadata": {
        "id": "KS48pq3gjTcr"
      }
    },
    {
      "cell_type": "code",
      "source": [
        "def gcd(a, b):\n",
        "  if b == 0:\n",
        "    return a\n",
        "  else:\n",
        "    return gcd(b, (a % b))\n",
        "\n",
        "gcd(10,15)"
      ],
      "metadata": {
        "colab": {
          "base_uri": "https://localhost:8080/"
        },
        "id": "JLbbJPBnjWdt",
        "outputId": "6ac818f3-616c-4579-8186-2540659d4704"
      },
      "execution_count": null,
      "outputs": [
        {
          "output_type": "execute_result",
          "data": {
            "text/plain": [
              "5"
            ]
          },
          "metadata": {},
          "execution_count": 6
        }
      ]
    },
    {
      "cell_type": "markdown",
      "source": [
        "Q11"
      ],
      "metadata": {
        "id": "zsZiS-9Omd_L"
      }
    },
    {
      "cell_type": "code",
      "source": [
        "n=np.arange(0,10)\n",
        "print(n)"
      ],
      "metadata": {
        "id": "9uA4Pf88mdvU",
        "colab": {
          "base_uri": "https://localhost:8080/"
        },
        "outputId": "292dd8a9-d6d4-4c48-c852-cfe70fa6c09a"
      },
      "execution_count": null,
      "outputs": [
        {
          "output_type": "stream",
          "name": "stdout",
          "text": [
            "[0 1 2 3 4 5 6 7 8 9]\n"
          ]
        }
      ]
    },
    {
      "cell_type": "markdown",
      "source": [
        "Q12"
      ],
      "metadata": {
        "id": "qajeF6RyohAy"
      }
    },
    {
      "cell_type": "code",
      "source": [
        "d=np.array([[1,2,3],[4,5,6],[7,8,9]])\n",
        "print(d)"
      ],
      "metadata": {
        "id": "Nsv0w4qlnv_f",
        "colab": {
          "base_uri": "https://localhost:8080/"
        },
        "outputId": "a25aef01-b5f7-4b83-fba4-484c5eb74c99"
      },
      "execution_count": null,
      "outputs": [
        {
          "output_type": "stream",
          "name": "stdout",
          "text": [
            "[[1 2 3]\n",
            " [4 5 6]\n",
            " [7 8 9]]\n"
          ]
        }
      ]
    },
    {
      "cell_type": "markdown",
      "source": [
        "Q13"
      ],
      "metadata": {
        "id": "sA-0JMBqpOOX"
      }
    },
    {
      "cell_type": "code",
      "source": [
        "i=np.identity(3)\n",
        "print(i)"
      ],
      "metadata": {
        "id": "TlWgk-bumSf3",
        "colab": {
          "base_uri": "https://localhost:8080/"
        },
        "outputId": "3fcccf39-f937-4577-93ba-9f3a51b6b1c9"
      },
      "execution_count": null,
      "outputs": [
        {
          "output_type": "stream",
          "name": "stdout",
          "text": [
            "[[1. 0. 0.]\n",
            " [0. 1. 0.]\n",
            " [0. 0. 1.]]\n"
          ]
        }
      ]
    },
    {
      "cell_type": "markdown",
      "source": [
        "Q14"
      ],
      "metadata": {
        "id": "195f8ogppdkJ"
      }
    },
    {
      "cell_type": "code",
      "source": [
        "r=np.random.randint(1,100,5)\n",
        "print(r)\n",
        "mean=np.mean(r)\n",
        "print('mean value : ',mean)\n",
        "sd=np.std(r)\n",
        "print('standard deviation : ',sd)"
      ],
      "metadata": {
        "colab": {
          "base_uri": "https://localhost:8080/"
        },
        "id": "QaEha9eHpb_0",
        "outputId": "89274342-c694-4780-ede6-c1f18da51760"
      },
      "execution_count": null,
      "outputs": [
        {
          "output_type": "stream",
          "name": "stdout",
          "text": [
            "[42  2 69 81 99]\n",
            "mean value :  58.6\n",
            "standard deviation :  33.82661673889365\n"
          ]
        }
      ]
    },
    {
      "cell_type": "markdown",
      "source": [
        "Q15"
      ],
      "metadata": {
        "id": "uPnFbOSbqJHO"
      }
    },
    {
      "cell_type": "code",
      "source": [
        "ex=np.arange(10,21)\n",
        "ex[0:5]"
      ],
      "metadata": {
        "colab": {
          "base_uri": "https://localhost:8080/"
        },
        "id": "FGWkugN6p1mc",
        "outputId": "3eab4bd3-8405-42d7-93be-d4b7be62e7d4"
      },
      "execution_count": null,
      "outputs": [
        {
          "output_type": "execute_result",
          "data": {
            "text/plain": [
              "array([10, 11, 12, 13, 14])"
            ]
          },
          "metadata": {},
          "execution_count": 50
        }
      ]
    },
    {
      "cell_type": "markdown",
      "source": [
        "Q16"
      ],
      "metadata": {
        "id": "zEUaf2N7qjiy"
      }
    },
    {
      "cell_type": "code",
      "source": [
        "sr=np.arange(0,16)\n",
        "sr=sr.reshape(4,4)\n",
        "sr\n",
        "\n",
        "print(sr[1,:])"
      ],
      "metadata": {
        "colab": {
          "base_uri": "https://localhost:8080/"
        },
        "id": "OvbLaFAVqhg-",
        "outputId": "22e67698-5111-4c8f-99ca-52ab3073bb45"
      },
      "execution_count": null,
      "outputs": [
        {
          "output_type": "stream",
          "name": "stdout",
          "text": [
            "[4 5 6 7]\n"
          ]
        }
      ]
    },
    {
      "cell_type": "markdown",
      "source": [
        "Q17"
      ],
      "metadata": {
        "id": "46mnsbTvrfuA"
      }
    },
    {
      "cell_type": "code",
      "source": [
        "a1=np.arange(1,6)\n",
        "a2=np.arange(6,11)\n",
        "print(a1+a2)"
      ],
      "metadata": {
        "colab": {
          "base_uri": "https://localhost:8080/"
        },
        "id": "Wjih88DkrAJh",
        "outputId": "131028c3-e7ab-433d-e70f-2d7c9a5e11d4"
      },
      "execution_count": null,
      "outputs": [
        {
          "output_type": "stream",
          "name": "stdout",
          "text": [
            "[ 7  9 11 13 15]\n"
          ]
        }
      ]
    },
    {
      "cell_type": "markdown",
      "source": [
        "Q18"
      ],
      "metadata": {
        "id": "1ULbBN80r-na"
      }
    },
    {
      "cell_type": "code",
      "source": [
        "ra=np.random.rand(10)\n",
        "ra[ra>0.5]=0\n",
        "print(ra)\n"
      ],
      "metadata": {
        "colab": {
          "base_uri": "https://localhost:8080/"
        },
        "id": "TTEhEmBtr8vd",
        "outputId": "611c7038-fe1e-445d-f61c-8ca90b8c5d2f"
      },
      "execution_count": null,
      "outputs": [
        {
          "output_type": "stream",
          "name": "stdout",
          "text": [
            "[0.         0.17548017 0.         0.         0.45221713 0.49578452\n",
            " 0.         0.         0.41614391 0.02368855]\n"
          ]
        }
      ]
    },
    {
      "cell_type": "code",
      "source": [],
      "metadata": {
        "id": "KhLfz4DtsO3i"
      },
      "execution_count": null,
      "outputs": []
    }
  ]
}