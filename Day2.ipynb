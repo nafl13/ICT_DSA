{
  "nbformat": 4,
  "nbformat_minor": 0,
  "metadata": {
    "colab": {
      "provenance": [],
      "authorship_tag": "ABX9TyPtDprATtnAhcSpyMj+U2x9",
      "include_colab_link": true
    },
    "kernelspec": {
      "name": "python3",
      "display_name": "Python 3"
    },
    "language_info": {
      "name": "python"
    }
  },
  "cells": [
    {
      "cell_type": "markdown",
      "metadata": {
        "id": "view-in-github",
        "colab_type": "text"
      },
      "source": [
        "<a href=\"https://colab.research.google.com/github/nafl13/ICT_DSA/blob/Daily_tasks/Day2.ipynb\" target=\"_parent\"><img src=\"https://colab.research.google.com/assets/colab-badge.svg\" alt=\"Open In Colab\"/></a>"
      ]
    },
    {
      "cell_type": "code",
      "execution_count": 1,
      "metadata": {
        "colab": {
          "base_uri": "https://localhost:8080/"
        },
        "id": "78z5BAkqRMj0",
        "outputId": "415c4c83-7584-4062-f985-3f1455fd1c7d"
      },
      "outputs": [
        {
          "output_type": "stream",
          "name": "stdout",
          "text": [
            "Hello\n"
          ]
        }
      ],
      "source": [
        "string1 = \"Hello, World!\"\n",
        "substring1 = string1[0:5]\n",
        "print(substring1)\n"
      ]
    },
    {
      "cell_type": "code",
      "source": [
        "string2 = \"Python is fun\"\n",
        "substring2 = string2[7:9]\n",
        "print(substring2)\n"
      ],
      "metadata": {
        "colab": {
          "base_uri": "https://localhost:8080/"
        },
        "id": "0xTXCJCAR4MV",
        "outputId": "eb5d33bc-eee2-467a-c09e-4a2de811d8d7"
      },
      "execution_count": 2,
      "outputs": [
        {
          "output_type": "stream",
          "name": "stdout",
          "text": [
            "is\n"
          ]
        }
      ]
    },
    {
      "cell_type": "code",
      "source": [
        "string3 = \"Programming\"\n",
        "substring3 = string3[3:7]\n",
        "print(substring3)\n"
      ],
      "metadata": {
        "colab": {
          "base_uri": "https://localhost:8080/"
        },
        "id": "PTFSVfeiR5yV",
        "outputId": "ed5b5f72-2793-4074-9294-a50fd10c3ad4"
      },
      "execution_count": 3,
      "outputs": [
        {
          "output_type": "stream",
          "name": "stdout",
          "text": [
            "gram\n"
          ]
        }
      ]
    },
    {
      "cell_type": "code",
      "source": [
        "string4 = \"abcdefgh\"\n",
        "even_chars = \"\"\n",
        "for i in range(0, len(string4), 2):\n",
        "    even_chars += string4[i]\n",
        "print(even_chars)\n"
      ],
      "metadata": {
        "colab": {
          "base_uri": "https://localhost:8080/"
        },
        "id": "qtMOufxyR7dE",
        "outputId": "c65989d9-e068-4e4a-a3c4-8e732f39f7db"
      },
      "execution_count": 4,
      "outputs": [
        {
          "output_type": "stream",
          "name": "stdout",
          "text": [
            "aceg\n"
          ]
        }
      ]
    },
    {
      "cell_type": "code",
      "source": [
        "string5 = \"abcdefg\"\n",
        "substring5 = string5[-3:]\n",
        "print(substring5)\n"
      ],
      "metadata": {
        "colab": {
          "base_uri": "https://localhost:8080/"
        },
        "id": "4qsu0pdgR-QT",
        "outputId": "9e239863-679d-4a39-c35b-39c2160b0acf"
      },
      "execution_count": 5,
      "outputs": [
        {
          "output_type": "stream",
          "name": "stdout",
          "text": [
            "efg\n"
          ]
        }
      ]
    },
    {
      "cell_type": "code",
      "source": [
        "string6 = \"Data Science\"\n",
        "last_three_chars = string6[-3:]\n",
        "print(last_three_chars)\n"
      ],
      "metadata": {
        "colab": {
          "base_uri": "https://localhost:8080/"
        },
        "id": "6CMSo9BnSAsT",
        "outputId": "8fb6cf3c-ad94-4479-ca5c-f425ffc70cda"
      },
      "execution_count": 6,
      "outputs": [
        {
          "output_type": "stream",
          "name": "stdout",
          "text": [
            "nce\n"
          ]
        }
      ]
    },
    {
      "cell_type": "code",
      "source": [
        "string7 = \"abcdefghij\"\n",
        "every_second_char = \"\"\n",
        "for i in range(0, len(string7), 2):\n",
        "    every_second_char += string7[i]\n",
        "print(every_second_char)\n"
      ],
      "metadata": {
        "colab": {
          "base_uri": "https://localhost:8080/"
        },
        "id": "D_abwJA-SDG0",
        "outputId": "03ea0177-16c2-4405-bd0c-568d0c41b61a"
      },
      "execution_count": 7,
      "outputs": [
        {
          "output_type": "stream",
          "name": "stdout",
          "text": [
            "acegi\n"
          ]
        }
      ]
    },
    {
      "cell_type": "code",
      "source": [
        "string8 = \"1234567890\"\n",
        "odd_digits = \"\"\n",
        "for i in range(0, len(string8), 2):\n",
        "    odd_digits += string8[i]\n",
        "print(odd_digits)\n"
      ],
      "metadata": {
        "colab": {
          "base_uri": "https://localhost:8080/"
        },
        "id": "ix_EgnWZSEqi",
        "outputId": "4a8f6edd-9f90-49b3-8ad4-602d0ceb25d1"
      },
      "execution_count": 10,
      "outputs": [
        {
          "output_type": "stream",
          "name": "stdout",
          "text": [
            "13579\n"
          ]
        }
      ]
    },
    {
      "cell_type": "code",
      "source": [
        "string9 = \"Hello\"\n",
        "reversed_string = \"\"\n",
        "for i in range(len(string9) - 1, -1, -1):\n",
        "    reversed_string += string9[i]\n",
        "print(reversed_string)\n"
      ],
      "metadata": {
        "colab": {
          "base_uri": "https://localhost:8080/"
        },
        "id": "XrtHplGUSGWD",
        "outputId": "ad9fca54-53c5-4e0e-c629-4750bc780972"
      },
      "execution_count": 11,
      "outputs": [
        {
          "output_type": "stream",
          "name": "stdout",
          "text": [
            "olleH\n"
          ]
        }
      ]
    },
    {
      "cell_type": "code",
      "source": [
        "string10 = \"abcdefghijk\"\n",
        "substring10 = \"\"\n",
        "for i in range(0, len(string10), 2):\n",
        "    substring10 += string10[i]\n",
        "print(substring10)\n"
      ],
      "metadata": {
        "colab": {
          "base_uri": "https://localhost:8080/"
        },
        "id": "N1iO5aQ8SUD9",
        "outputId": "fff4beec-8ce1-4d0f-a174-ab343811b4c4"
      },
      "execution_count": 12,
      "outputs": [
        {
          "output_type": "stream",
          "name": "stdout",
          "text": [
            "acegik\n"
          ]
        }
      ]
    },
    {
      "cell_type": "code",
      "source": [
        "list11 = [1, 2, 3, 4, 5]\n",
        "sum_list11 = 0\n",
        "for num in list11:\n",
        "    sum_list11 += num\n",
        "print(sum_list11)\n"
      ],
      "metadata": {
        "colab": {
          "base_uri": "https://localhost:8080/"
        },
        "id": "mQWlF6LCScFq",
        "outputId": "c7c2360e-1521-4e63-a0c9-4fb69ae22d47"
      },
      "execution_count": 13,
      "outputs": [
        {
          "output_type": "stream",
          "name": "stdout",
          "text": [
            "15\n"
          ]
        }
      ]
    },
    {
      "cell_type": "code",
      "source": [
        "sentence = input(\"Enter a sentence: \")\n",
        "length = 0\n",
        "for char in sentence:\n",
        "    length += 1\n",
        "print(length)\n",
        "\n",
        "first_half = \"\"\n",
        "for i in range(length // 2):\n",
        "    first_half += sentence[i]\n",
        "print(first_half)\n"
      ],
      "metadata": {
        "colab": {
          "base_uri": "https://localhost:8080/"
        },
        "id": "2AWk5SATSclq",
        "outputId": "4be10d0c-cde3-46bb-f695-e055b9647bfa"
      },
      "execution_count": 14,
      "outputs": [
        {
          "output_type": "stream",
          "name": "stdout",
          "text": [
            "Enter a sentence: python is fun\n",
            "13\n",
            "python\n"
          ]
        }
      ]
    },
    {
      "cell_type": "code",
      "source": [
        "tuple13 = (78, 45, 32, 19, 82, 77, 40, 39)\n",
        "list13 = list(tuple13)\n",
        "list13[2] = 100\n",
        "tuple13 = tuple(list13)\n",
        "print(tuple13)\n"
      ],
      "metadata": {
        "colab": {
          "base_uri": "https://localhost:8080/"
        },
        "id": "8dcveMvwSf7a",
        "outputId": "c36aed8c-2c32-44e3-a7df-bf21c9d021c8"
      },
      "execution_count": 15,
      "outputs": [
        {
          "output_type": "stream",
          "name": "stdout",
          "text": [
            "(78, 45, 100, 19, 82, 77, 40, 39)\n"
          ]
        }
      ]
    },
    {
      "cell_type": "code",
      "source": [
        "listA = [19, 32, 10, 55, 31, 32, 94, 29, 10, 65, 77, 40, 40]\n",
        "listA.remove(32)\n",
        "listA = [x for x in listA if x != 40]\n",
        "del listA[5]\n",
        "listA.insert(2, 200)\n",
        "print(listA)\n",
        "lengthA = 0\n",
        "maxA = listA[0]\n",
        "sumA = 0\n",
        "for x in listA:\n",
        "    lengthA += 1\n",
        "    sumA += x\n",
        "    if x > maxA:\n",
        "        maxA = x\n",
        "print(\"Length :\" , lengthA)\n",
        "print(\"Maximum: \" , maxA)\n",
        "print(\"Sum: \" , sumA)\n"
      ],
      "metadata": {
        "colab": {
          "base_uri": "https://localhost:8080/"
        },
        "id": "dXpzbX2xSns6",
        "outputId": "4821787f-c640-4a28-923b-4e05db20cc0c"
      },
      "execution_count": 19,
      "outputs": [
        {
          "output_type": "stream",
          "name": "stdout",
          "text": [
            "[19, 10, 200, 55, 31, 32, 29, 10, 65, 77]\n",
            "Length : 10\n",
            "Maximum:  200\n",
            "Sum:  528\n"
          ]
        }
      ]
    },
    {
      "cell_type": "code",
      "source": [
        "string15 = \"The day has been long\"\n",
        "list15 = list(string15)\n",
        "del list15[4]\n",
        "string15 = ''.join(list15)\n",
        "print(string15)\n",
        "\n",
        "repeated_string15 = \" \".join([string15] * 4)\n",
        "print(repeated_string15)\n",
        "\n",
        "for _ in range(3):\n",
        "    print(string15)\n",
        "\n",
        "list15 = list(string15)\n",
        "list15[7] = 'A'\n",
        "string15 = ''.join(list15)\n",
        "print(string15)\n",
        "\n",
        "substring15 = string15[4:16]\n",
        "print(substring15)\n",
        "\n",
        "length15 = 0\n",
        "for char in string15:\n",
        "    length15 += 1\n",
        "print(length15)\n"
      ],
      "metadata": {
        "colab": {
          "base_uri": "https://localhost:8080/"
        },
        "id": "KQUBKGOBSt4I",
        "outputId": "5d069866-7a86-4e22-d2be-6b41a8b8ebdc"
      },
      "execution_count": 20,
      "outputs": [
        {
          "output_type": "stream",
          "name": "stdout",
          "text": [
            "The ay has been long\n",
            "The ay has been long The ay has been long The ay has been long The ay has been long\n",
            "The ay has been long\n",
            "The ay has been long\n",
            "The ay has been long\n",
            "The ay Aas been long\n",
            "ay Aas been \n",
            "20\n"
          ]
        }
      ]
    },
    {
      "cell_type": "code",
      "source": [],
      "metadata": {
        "id": "YVN6B1hPTRrx"
      },
      "execution_count": null,
      "outputs": []
    }
  ]
}