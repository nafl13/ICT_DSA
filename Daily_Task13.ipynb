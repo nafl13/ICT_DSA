{
  "nbformat": 4,
  "nbformat_minor": 0,
  "metadata": {
    "colab": {
      "provenance": [],
      "authorship_tag": "ABX9TyNNd7+T1GsGCEvaynhNitwB",
      "include_colab_link": true
    },
    "kernelspec": {
      "name": "python3",
      "display_name": "Python 3"
    },
    "language_info": {
      "name": "python"
    }
  },
  "cells": [
    {
      "cell_type": "markdown",
      "metadata": {
        "id": "view-in-github",
        "colab_type": "text"
      },
      "source": [
        "<a href=\"https://colab.research.google.com/github/nafl13/ICT_DSA/blob/Daily_tasks/Daily_Task13.ipynb\" target=\"_parent\"><img src=\"https://colab.research.google.com/assets/colab-badge.svg\" alt=\"Open In Colab\"/></a>"
      ]
    },
    {
      "cell_type": "code",
      "execution_count": 3,
      "metadata": {
        "colab": {
          "base_uri": "https://localhost:8080/"
        },
        "id": "8UybuxAoFYDj",
        "outputId": "c63ad203-0442-4ce0-caa6-f8cce69d2fa4"
      },
      "outputs": [
        {
          "output_type": "stream",
          "name": "stdout",
          "text": [
            "Enter the age of person 1: 34\n",
            "Enter the age of person 2: 56\n",
            "Enter the age of person 3: 65\n",
            "The oldest is person 3 \n",
            "The youngest is person 1 \n"
          ]
        }
      ],
      "source": [
        "ages = []\n",
        "\n",
        "for i in range(3):\n",
        "    age = int(input(f\"Enter the age of person {i+1}: \"))\n",
        "    ages.append(age)\n",
        "\n",
        "oldest = 0\n",
        "youngest = 0\n",
        "for i in range(3):\n",
        "    if ages[i] > ages[oldest]:\n",
        "        oldest = i\n",
        "    if ages[i] < ages[youngest]:\n",
        "        youngest = i\n",
        "\n",
        "print(f\"The oldest is person {oldest + 1} \")\n",
        "print(f\"The youngest is person {youngest + 1} \")\n"
      ]
    },
    {
      "cell_type": "code",
      "source": [
        "score = int(input(\"Enter your exam score: \"))\n",
        "if score >= 90:\n",
        "    grade = 'A'\n",
        "elif score >= 80:\n",
        "    grade = 'B'\n",
        "elif score >= 70:\n",
        "    grade = 'C'\n",
        "else:\n",
        "    grade = 'F'\n",
        "print(f\"Your grade is: {grade}\")"
      ],
      "metadata": {
        "colab": {
          "base_uri": "https://localhost:8080/"
        },
        "id": "wyLV4clrKdzu",
        "outputId": "0f0bbdaa-e304-477d-b491-134543be8761"
      },
      "execution_count": 4,
      "outputs": [
        {
          "output_type": "stream",
          "name": "stdout",
          "text": [
            "Enter your exam score: 65\n",
            "Your grade is: F\n"
          ]
        }
      ]
    },
    {
      "cell_type": "code",
      "source": [
        "grocery_list = []\n",
        "num_items = int(input(\"How many grocery items do you want to add? \"))\n",
        "for _ in range(num_items):\n",
        "    item = input(\"Enter a grocery item: \")\n",
        "    grocery_list.append(item)\n",
        "def sort_list(lst):\n",
        "    n = len(lst)\n",
        "    for i in range(n):\n",
        "        for j in range(0, n-i-1):\n",
        "            if lst[j] > lst[j+1]:\n",
        "                lst[j], lst[j+1] = lst[j+1], lst[j]\n",
        "    return lst\n",
        "sorted_list = sort_list(grocery_list)\n",
        "print(\"Your sorted grocery list is:\")\n",
        "for item in sorted_list:\n",
        "    print(item)\n"
      ],
      "metadata": {
        "colab": {
          "base_uri": "https://localhost:8080/"
        },
        "id": "bXdjVFS9KzSn",
        "outputId": "e1ef42cc-51e1-488a-f45e-a976ba9f1640"
      },
      "execution_count": 6,
      "outputs": [
        {
          "output_type": "stream",
          "name": "stdout",
          "text": [
            "How many grocery items do you want to add? 5\n",
            "Enter a grocery item: d\n",
            "Enter a grocery item: a\n",
            "Enter a grocery item: c\n",
            "Enter a grocery item: f\n",
            "Enter a grocery item: b\n",
            "Your sorted grocery list is:\n",
            "a\n",
            "b\n",
            "c\n",
            "d\n",
            "f\n"
          ]
        }
      ]
    },
    {
      "cell_type": "code",
      "source": [
        "def is_valid_email(email):\n",
        "    at_count = 0\n",
        "    dot_found = False\n",
        "    at_index = -1\n",
        "    for i in range(len(email)):\n",
        "        if email[i] == '@':\n",
        "            at_count += 1\n",
        "            at_index = i\n",
        "        elif email[i] == '.':\n",
        "            if at_index != -1 and i > at_index + 1:\n",
        "                dot_found = True\n",
        "\n",
        "    if at_count == 1 and at_index > 0 and dot_found:\n",
        "        return True\n",
        "    return False\n",
        "\n",
        "email = input(\"Enter your email address: \")\n",
        "\n",
        "if is_valid_email(email):\n",
        "    print(\"The email address is valid.\")\n",
        "else:\n",
        "    print(\"The email address is invalid.\")\n"
      ],
      "metadata": {
        "colab": {
          "base_uri": "https://localhost:8080/"
        },
        "id": "c9WVj0LqMFvW",
        "outputId": "328c4330-3628-490a-e1f5-1c1d555b6cae"
      },
      "execution_count": 7,
      "outputs": [
        {
          "output_type": "stream",
          "name": "stdout",
          "text": [
            "Enter your email address: abcdefg@gmail.com\n",
            "The email address is valid.\n"
          ]
        }
      ]
    },
    {
      "cell_type": "code",
      "source": [
        "def calculate_fine(days_delayed):\n",
        "    if days_delayed <= 7:\n",
        "        return 0\n",
        "    elif 8 <= days_delayed <= 30:\n",
        "        return (days_delayed - 7) * 2\n",
        "    else:\n",
        "        return (days_delayed - 30) * 5 + (23 * 2)\n",
        "days_delayed = int(input(\"Enter the number of days you have delayed returning the book: \"))\n",
        "\n",
        "fine = calculate_fine(days_delayed)\n",
        "\n",
        "print(f\"The total fine amount is: {fine} rupees\")\n"
      ],
      "metadata": {
        "colab": {
          "base_uri": "https://localhost:8080/"
        },
        "id": "9Mm_2rXMMOY-",
        "outputId": "84d4cea4-0bc1-4ed0-cab0-73c29933784b"
      },
      "execution_count": 8,
      "outputs": [
        {
          "output_type": "stream",
          "name": "stdout",
          "text": [
            "Enter the number of days you have delayed returning the book: 34\n",
            "The total fine amount is: 66 rupees\n"
          ]
        }
      ]
    },
    {
      "cell_type": "code",
      "source": [
        "def is_vowel(char):\n",
        "    vowels = \"aeiouAEIOU\"\n",
        "    return char in vowels\n",
        "char = input(\"Enter a character: \")\n",
        "if is_vowel(char):\n",
        "    print(f\"{char} is a vowel.\")\n",
        "else:\n",
        "    print(f\"{char} is not a vowel.\")"
      ],
      "metadata": {
        "colab": {
          "base_uri": "https://localhost:8080/"
        },
        "id": "OdZKVPQiMypT",
        "outputId": "15fbf169-cc7d-4189-88e2-f90946062cd2"
      },
      "execution_count": 11,
      "outputs": [
        {
          "output_type": "stream",
          "name": "stdout",
          "text": [
            "Enter a character: A\n",
            "A is a vowel.\n"
          ]
        }
      ]
    },
    {
      "cell_type": "code",
      "source": [
        "number = int(input(\"Enter a number to calculate its factorial: \"))\n",
        "result = 1\n",
        "for i in range(1, number + 1):\n",
        "    result *= i\n",
        "print(f\"The factorial of {number} is: {result}\")"
      ],
      "metadata": {
        "colab": {
          "base_uri": "https://localhost:8080/"
        },
        "id": "T0vX0GFxNM4l",
        "outputId": "6a827f40-4454-46dc-98e6-617de605015b"
      },
      "execution_count": 15,
      "outputs": [
        {
          "output_type": "stream",
          "name": "stdout",
          "text": [
            "Enter a number to calculate its factorial: 3\n",
            "The factorial of 3 is: 6\n"
          ]
        }
      ]
    },
    {
      "cell_type": "code",
      "source": [
        "limit = int(input(\"Enter the limit for the Fibonacci sequence: \"))\n",
        "a, b = 0, 1\n",
        "print(\"Fibonacci sequence up to\", limit, \":\")\n",
        "while a <= limit:\n",
        "    print(a, end=' ')\n",
        "    a, b = b, a + b\n"
      ],
      "metadata": {
        "colab": {
          "base_uri": "https://localhost:8080/"
        },
        "id": "pHZsX93NNvCG",
        "outputId": "5da2f975-9309-473e-8e78-92ffa26041eb"
      },
      "execution_count": 17,
      "outputs": [
        {
          "output_type": "stream",
          "name": "stdout",
          "text": [
            "Enter the limit for the Fibonacci sequence: 33\n",
            "Fibonacci sequence up to 33 :\n",
            "0 1 1 2 3 5 8 13 21 "
          ]
        }
      ]
    },
    {
      "cell_type": "code",
      "source": [
        "import random\n",
        "random_number = random.randint(1, 100)\n",
        "attempts_allowed = 3\n",
        "\n",
        "print(\"Welcome to the Number Guessing Game!\")\n",
        "print(f\"I'm thinking of a number between 1 and 100. You have {attempts_allowed} attempts to guess it.\")\n",
        "for attempt in range(1, attempts_allowed + 1):\n",
        "    guess = int(input(f\"Attempt {attempt}: Enter your guess: \"))\n",
        "    if guess == random_number:\n",
        "        print(f\"Congratulations! You guessed the number {random_number} correctly in {attempt} attempts.\")\n",
        "        break\n",
        "    elif guess < random_number:\n",
        "        print(\"low!\")\n",
        "    else:\n",
        "        print(\"high!\")\n",
        "    if attempt == attempts_allowed:\n",
        "        print(f\"Sorry, you've used all your attempts. The number was {random_number}.\")\n"
      ],
      "metadata": {
        "colab": {
          "base_uri": "https://localhost:8080/"
        },
        "id": "FF0Xe7XZOY7F",
        "outputId": "fefaf919-9752-48c1-a80c-330d7bad2952"
      },
      "execution_count": 19,
      "outputs": [
        {
          "output_type": "stream",
          "name": "stdout",
          "text": [
            "Welcome to the Number Guessing Game!\n",
            "I'm thinking of a number between 1 and 100. You have 3 attempts to guess it.\n",
            "Attempt 1: Enter your guess: 45\n",
            "high!\n",
            "Attempt 2: Enter your guess: 34\n",
            "low!\n",
            "Attempt 3: Enter your guess: 35\n",
            "low!\n",
            "Sorry, you've used all your attempts. The number was 42.\n"
          ]
        }
      ]
    },
    {
      "cell_type": "code",
      "source": [
        "def calculator():\n",
        "    while True:\n",
        "        print(\"\\nMenu:\")\n",
        "        print(\"a. Addition\")\n",
        "        print(\"b. Subtraction\")\n",
        "        print(\"c. Division\")\n",
        "        print(\"d. Multiplication\")\n",
        "        print(\"e. Exit\")\n",
        "        choice = input(\"Enter your choice (a/b/c/d/e): \")\n",
        "        if choice == 'e':\n",
        "            print(\"Exiting the calculator. Goodbye!\")\n",
        "            break\n",
        "        if choice in ['a', 'b', 'c', 'd']:\n",
        "            num1 = float(input(\"Enter the first number: \"))\n",
        "            num2 = float(input(\"Enter the second number: \"))\n",
        "            if choice == 'a':\n",
        "                result = num1 + num2\n",
        "                print(f\"The result of addition is: {result}\")\n",
        "            elif choice == 'b':\n",
        "                result = num1 - num2\n",
        "                print(f\"The result of subtraction is: {result}\")\n",
        "            elif choice == 'c':\n",
        "                if num2 != 0:\n",
        "                    result = num1 / num2\n",
        "                    print(f\"The result of division is: {result}\")\n",
        "                else:\n",
        "                    print(\"Error: Division by zero is not allowed.\")\n",
        "            elif choice == 'd':\n",
        "                result = num1 * num2\n",
        "                print(f\"The result of multiplication is: {result}\")\n",
        "\n",
        "        else:\n",
        "            print(\"Invalid choice. Please select a valid option.\")\n",
        "        continue_choice = input(\"Do you want to perform another operation? (y/n): \")\n",
        "        if continue_choice != 'y':\n",
        "            print(\"Exiting the calculator. Goodbye!\")\n",
        "            break\n",
        "calculator()\n"
      ],
      "metadata": {
        "colab": {
          "base_uri": "https://localhost:8080/"
        },
        "id": "5yflGSxFPk4Q",
        "outputId": "e1ec5ca9-c47b-4d36-aa44-9d130ca9fdeb"
      },
      "execution_count": 21,
      "outputs": [
        {
          "output_type": "stream",
          "name": "stdout",
          "text": [
            "\n",
            "Menu:\n",
            "a. Addition\n",
            "b. Subtraction\n",
            "c. Division\n",
            "d. Multiplication\n",
            "e. Exit\n",
            "Enter your choice (a/b/c/d/e): c\n",
            "Enter the first number: 6\n",
            "Enter the second number: 3\n",
            "The result of division is: 2.0\n",
            "Do you want to perform another operation? (y/n): y\n",
            "\n",
            "Menu:\n",
            "a. Addition\n",
            "b. Subtraction\n",
            "c. Division\n",
            "d. Multiplication\n",
            "e. Exit\n",
            "Enter your choice (a/b/c/d/e): b\n",
            "Enter the first number: 6\n",
            "Enter the second number: 4\n",
            "The result of subtraction is: 2.0\n",
            "Do you want to perform another operation? (y/n): n\n",
            "Exiting the calculator. Goodbye!\n"
          ]
        }
      ]
    },
    {
      "cell_type": "code",
      "source": [],
      "metadata": {
        "id": "FOkVNb3QQZDg"
      },
      "execution_count": null,
      "outputs": []
    }
  ]
}