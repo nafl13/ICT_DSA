{
  "nbformat": 4,
  "nbformat_minor": 0,
  "metadata": {
    "colab": {
      "provenance": [],
      "authorship_tag": "ABX9TyPKMAUPaLXzV7Y4VcLixT2I",
      "include_colab_link": true
    },
    "kernelspec": {
      "name": "python3",
      "display_name": "Python 3"
    },
    "language_info": {
      "name": "python"
    }
  },
  "cells": [
    {
      "cell_type": "markdown",
      "metadata": {
        "id": "view-in-github",
        "colab_type": "text"
      },
      "source": [
        "<a href=\"https://colab.research.google.com/github/nafl13/ICT_DSA/blob/Assignments/Casestudy_dataaquisition.ipynb\" target=\"_parent\"><img src=\"https://colab.research.google.com/assets/colab-badge.svg\" alt=\"Open In Colab\"/></a>"
      ]
    },
    {
      "cell_type": "code",
      "execution_count": 2,
      "metadata": {
        "id": "csHsQHoxp_0H"
      },
      "outputs": [],
      "source": [
        "import pandas as pd"
      ]
    },
    {
      "cell_type": "markdown",
      "source": [
        "Dataset\n",
        "[link text](https://drive.google.com/file/d/1sJoHHJVJq97RrouByToKxr24x3w-HftH/view?usp=sharing)"
      ],
      "metadata": {
        "id": "6lJnZspn4y5C"
      }
    },
    {
      "cell_type": "code",
      "source": [
        "df = pd.read_csv('/content/stroke_prediction_dataset.csv')"
      ],
      "metadata": {
        "id": "U-AsA_zrqEQY"
      },
      "execution_count": 3,
      "outputs": []
    },
    {
      "cell_type": "code",
      "source": [
        "df.head()"
      ],
      "metadata": {
        "colab": {
          "base_uri": "https://localhost:8080/",
          "height": 533
        },
        "id": "90q9SB7cqgwx",
        "outputId": "12ff3056-fdbc-400b-8f6b-4dca12ba8065"
      },
      "execution_count": 4,
      "outputs": [
        {
          "output_type": "execute_result",
          "data": {
            "text/plain": [
              "   Patient ID       Patient Name  Age Gender  Hypertension  Heart Disease  \\\n",
              "0       18153    Mamooty Khurana   56   Male             0              1   \n",
              "1       62749  Kaira Subramaniam   80   Male             0              0   \n",
              "2       32145      Dhanush Balan   26   Male             1              1   \n",
              "3        6154        Ivana Baral   73   Male             0              0   \n",
              "4       48973  Darshit Jayaraman   51   Male             1              1   \n",
              "\n",
              "  Marital Status      Work Type Residence Type  Average Glucose Level  ...  \\\n",
              "0        Married  Self-employed          Rural                 130.91  ...   \n",
              "1         Single  Self-employed          Urban                 183.73  ...   \n",
              "2        Married   Never Worked          Rural                 189.00  ...   \n",
              "3        Married   Never Worked          Urban                 185.29  ...   \n",
              "4       Divorced  Self-employed          Urban                 177.34  ...   \n",
              "\n",
              "     Alcohol Intake Physical Activity Stroke History Family History of Stroke  \\\n",
              "0    Social Drinker          Moderate              0                      Yes   \n",
              "1             Never               Low              0                       No   \n",
              "2            Rarely              High              0                      Yes   \n",
              "3  Frequent Drinker          Moderate              0                       No   \n",
              "4            Rarely               Low              0                      Yes   \n",
              "\n",
              "   Dietary Habits Stress Levels Blood Pressure Levels  Cholesterol Levels  \\\n",
              "0           Vegan          3.48               140/108   HDL: 68, LDL: 133   \n",
              "1           Paleo          1.73                146/91    HDL: 63, LDL: 70   \n",
              "2           Paleo          7.31                154/97    HDL: 59, LDL: 95   \n",
              "3           Paleo          5.35                174/81   HDL: 70, LDL: 137   \n",
              "4     Pescatarian          6.84                121/95    HDL: 65, LDL: 68   \n",
              "\n",
              "                                            Symptoms  Diagnosis  \n",
              "0                      Difficulty Speaking, Headache     Stroke  \n",
              "1    Loss of Balance, Headache, Dizziness, Confusion     Stroke  \n",
              "2                                Seizures, Dizziness     Stroke  \n",
              "3  Seizures, Blurred Vision, Severe Fatigue, Head...  No Stroke  \n",
              "4                                Difficulty Speaking     Stroke  \n",
              "\n",
              "[5 rows x 22 columns]"
            ],
            "text/html": [
              "\n",
              "  <div id=\"df-da9c2702-3fe4-4218-9d7a-e861acad1628\" class=\"colab-df-container\">\n",
              "    <div>\n",
              "<style scoped>\n",
              "    .dataframe tbody tr th:only-of-type {\n",
              "        vertical-align: middle;\n",
              "    }\n",
              "\n",
              "    .dataframe tbody tr th {\n",
              "        vertical-align: top;\n",
              "    }\n",
              "\n",
              "    .dataframe thead th {\n",
              "        text-align: right;\n",
              "    }\n",
              "</style>\n",
              "<table border=\"1\" class=\"dataframe\">\n",
              "  <thead>\n",
              "    <tr style=\"text-align: right;\">\n",
              "      <th></th>\n",
              "      <th>Patient ID</th>\n",
              "      <th>Patient Name</th>\n",
              "      <th>Age</th>\n",
              "      <th>Gender</th>\n",
              "      <th>Hypertension</th>\n",
              "      <th>Heart Disease</th>\n",
              "      <th>Marital Status</th>\n",
              "      <th>Work Type</th>\n",
              "      <th>Residence Type</th>\n",
              "      <th>Average Glucose Level</th>\n",
              "      <th>...</th>\n",
              "      <th>Alcohol Intake</th>\n",
              "      <th>Physical Activity</th>\n",
              "      <th>Stroke History</th>\n",
              "      <th>Family History of Stroke</th>\n",
              "      <th>Dietary Habits</th>\n",
              "      <th>Stress Levels</th>\n",
              "      <th>Blood Pressure Levels</th>\n",
              "      <th>Cholesterol Levels</th>\n",
              "      <th>Symptoms</th>\n",
              "      <th>Diagnosis</th>\n",
              "    </tr>\n",
              "  </thead>\n",
              "  <tbody>\n",
              "    <tr>\n",
              "      <th>0</th>\n",
              "      <td>18153</td>\n",
              "      <td>Mamooty Khurana</td>\n",
              "      <td>56</td>\n",
              "      <td>Male</td>\n",
              "      <td>0</td>\n",
              "      <td>1</td>\n",
              "      <td>Married</td>\n",
              "      <td>Self-employed</td>\n",
              "      <td>Rural</td>\n",
              "      <td>130.91</td>\n",
              "      <td>...</td>\n",
              "      <td>Social Drinker</td>\n",
              "      <td>Moderate</td>\n",
              "      <td>0</td>\n",
              "      <td>Yes</td>\n",
              "      <td>Vegan</td>\n",
              "      <td>3.48</td>\n",
              "      <td>140/108</td>\n",
              "      <td>HDL: 68, LDL: 133</td>\n",
              "      <td>Difficulty Speaking, Headache</td>\n",
              "      <td>Stroke</td>\n",
              "    </tr>\n",
              "    <tr>\n",
              "      <th>1</th>\n",
              "      <td>62749</td>\n",
              "      <td>Kaira Subramaniam</td>\n",
              "      <td>80</td>\n",
              "      <td>Male</td>\n",
              "      <td>0</td>\n",
              "      <td>0</td>\n",
              "      <td>Single</td>\n",
              "      <td>Self-employed</td>\n",
              "      <td>Urban</td>\n",
              "      <td>183.73</td>\n",
              "      <td>...</td>\n",
              "      <td>Never</td>\n",
              "      <td>Low</td>\n",
              "      <td>0</td>\n",
              "      <td>No</td>\n",
              "      <td>Paleo</td>\n",
              "      <td>1.73</td>\n",
              "      <td>146/91</td>\n",
              "      <td>HDL: 63, LDL: 70</td>\n",
              "      <td>Loss of Balance, Headache, Dizziness, Confusion</td>\n",
              "      <td>Stroke</td>\n",
              "    </tr>\n",
              "    <tr>\n",
              "      <th>2</th>\n",
              "      <td>32145</td>\n",
              "      <td>Dhanush Balan</td>\n",
              "      <td>26</td>\n",
              "      <td>Male</td>\n",
              "      <td>1</td>\n",
              "      <td>1</td>\n",
              "      <td>Married</td>\n",
              "      <td>Never Worked</td>\n",
              "      <td>Rural</td>\n",
              "      <td>189.00</td>\n",
              "      <td>...</td>\n",
              "      <td>Rarely</td>\n",
              "      <td>High</td>\n",
              "      <td>0</td>\n",
              "      <td>Yes</td>\n",
              "      <td>Paleo</td>\n",
              "      <td>7.31</td>\n",
              "      <td>154/97</td>\n",
              "      <td>HDL: 59, LDL: 95</td>\n",
              "      <td>Seizures, Dizziness</td>\n",
              "      <td>Stroke</td>\n",
              "    </tr>\n",
              "    <tr>\n",
              "      <th>3</th>\n",
              "      <td>6154</td>\n",
              "      <td>Ivana Baral</td>\n",
              "      <td>73</td>\n",
              "      <td>Male</td>\n",
              "      <td>0</td>\n",
              "      <td>0</td>\n",
              "      <td>Married</td>\n",
              "      <td>Never Worked</td>\n",
              "      <td>Urban</td>\n",
              "      <td>185.29</td>\n",
              "      <td>...</td>\n",
              "      <td>Frequent Drinker</td>\n",
              "      <td>Moderate</td>\n",
              "      <td>0</td>\n",
              "      <td>No</td>\n",
              "      <td>Paleo</td>\n",
              "      <td>5.35</td>\n",
              "      <td>174/81</td>\n",
              "      <td>HDL: 70, LDL: 137</td>\n",
              "      <td>Seizures, Blurred Vision, Severe Fatigue, Head...</td>\n",
              "      <td>No Stroke</td>\n",
              "    </tr>\n",
              "    <tr>\n",
              "      <th>4</th>\n",
              "      <td>48973</td>\n",
              "      <td>Darshit Jayaraman</td>\n",
              "      <td>51</td>\n",
              "      <td>Male</td>\n",
              "      <td>1</td>\n",
              "      <td>1</td>\n",
              "      <td>Divorced</td>\n",
              "      <td>Self-employed</td>\n",
              "      <td>Urban</td>\n",
              "      <td>177.34</td>\n",
              "      <td>...</td>\n",
              "      <td>Rarely</td>\n",
              "      <td>Low</td>\n",
              "      <td>0</td>\n",
              "      <td>Yes</td>\n",
              "      <td>Pescatarian</td>\n",
              "      <td>6.84</td>\n",
              "      <td>121/95</td>\n",
              "      <td>HDL: 65, LDL: 68</td>\n",
              "      <td>Difficulty Speaking</td>\n",
              "      <td>Stroke</td>\n",
              "    </tr>\n",
              "  </tbody>\n",
              "</table>\n",
              "<p>5 rows × 22 columns</p>\n",
              "</div>\n",
              "    <div class=\"colab-df-buttons\">\n",
              "\n",
              "  <div class=\"colab-df-container\">\n",
              "    <button class=\"colab-df-convert\" onclick=\"convertToInteractive('df-da9c2702-3fe4-4218-9d7a-e861acad1628')\"\n",
              "            title=\"Convert this dataframe to an interactive table.\"\n",
              "            style=\"display:none;\">\n",
              "\n",
              "  <svg xmlns=\"http://www.w3.org/2000/svg\" height=\"24px\" viewBox=\"0 -960 960 960\">\n",
              "    <path d=\"M120-120v-720h720v720H120Zm60-500h600v-160H180v160Zm220 220h160v-160H400v160Zm0 220h160v-160H400v160ZM180-400h160v-160H180v160Zm440 0h160v-160H620v160ZM180-180h160v-160H180v160Zm440 0h160v-160H620v160Z\"/>\n",
              "  </svg>\n",
              "    </button>\n",
              "\n",
              "  <style>\n",
              "    .colab-df-container {\n",
              "      display:flex;\n",
              "      gap: 12px;\n",
              "    }\n",
              "\n",
              "    .colab-df-convert {\n",
              "      background-color: #E8F0FE;\n",
              "      border: none;\n",
              "      border-radius: 50%;\n",
              "      cursor: pointer;\n",
              "      display: none;\n",
              "      fill: #1967D2;\n",
              "      height: 32px;\n",
              "      padding: 0 0 0 0;\n",
              "      width: 32px;\n",
              "    }\n",
              "\n",
              "    .colab-df-convert:hover {\n",
              "      background-color: #E2EBFA;\n",
              "      box-shadow: 0px 1px 2px rgba(60, 64, 67, 0.3), 0px 1px 3px 1px rgba(60, 64, 67, 0.15);\n",
              "      fill: #174EA6;\n",
              "    }\n",
              "\n",
              "    .colab-df-buttons div {\n",
              "      margin-bottom: 4px;\n",
              "    }\n",
              "\n",
              "    [theme=dark] .colab-df-convert {\n",
              "      background-color: #3B4455;\n",
              "      fill: #D2E3FC;\n",
              "    }\n",
              "\n",
              "    [theme=dark] .colab-df-convert:hover {\n",
              "      background-color: #434B5C;\n",
              "      box-shadow: 0px 1px 3px 1px rgba(0, 0, 0, 0.15);\n",
              "      filter: drop-shadow(0px 1px 2px rgba(0, 0, 0, 0.3));\n",
              "      fill: #FFFFFF;\n",
              "    }\n",
              "  </style>\n",
              "\n",
              "    <script>\n",
              "      const buttonEl =\n",
              "        document.querySelector('#df-da9c2702-3fe4-4218-9d7a-e861acad1628 button.colab-df-convert');\n",
              "      buttonEl.style.display =\n",
              "        google.colab.kernel.accessAllowed ? 'block' : 'none';\n",
              "\n",
              "      async function convertToInteractive(key) {\n",
              "        const element = document.querySelector('#df-da9c2702-3fe4-4218-9d7a-e861acad1628');\n",
              "        const dataTable =\n",
              "          await google.colab.kernel.invokeFunction('convertToInteractive',\n",
              "                                                    [key], {});\n",
              "        if (!dataTable) return;\n",
              "\n",
              "        const docLinkHtml = 'Like what you see? Visit the ' +\n",
              "          '<a target=\"_blank\" href=https://colab.research.google.com/notebooks/data_table.ipynb>data table notebook</a>'\n",
              "          + ' to learn more about interactive tables.';\n",
              "        element.innerHTML = '';\n",
              "        dataTable['output_type'] = 'display_data';\n",
              "        await google.colab.output.renderOutput(dataTable, element);\n",
              "        const docLink = document.createElement('div');\n",
              "        docLink.innerHTML = docLinkHtml;\n",
              "        element.appendChild(docLink);\n",
              "      }\n",
              "    </script>\n",
              "  </div>\n",
              "\n",
              "\n",
              "<div id=\"df-f4c41f19-eeab-48fd-a8de-f056226ab4a7\">\n",
              "  <button class=\"colab-df-quickchart\" onclick=\"quickchart('df-f4c41f19-eeab-48fd-a8de-f056226ab4a7')\"\n",
              "            title=\"Suggest charts\"\n",
              "            style=\"display:none;\">\n",
              "\n",
              "<svg xmlns=\"http://www.w3.org/2000/svg\" height=\"24px\"viewBox=\"0 0 24 24\"\n",
              "     width=\"24px\">\n",
              "    <g>\n",
              "        <path d=\"M19 3H5c-1.1 0-2 .9-2 2v14c0 1.1.9 2 2 2h14c1.1 0 2-.9 2-2V5c0-1.1-.9-2-2-2zM9 17H7v-7h2v7zm4 0h-2V7h2v10zm4 0h-2v-4h2v4z\"/>\n",
              "    </g>\n",
              "</svg>\n",
              "  </button>\n",
              "\n",
              "<style>\n",
              "  .colab-df-quickchart {\n",
              "      --bg-color: #E8F0FE;\n",
              "      --fill-color: #1967D2;\n",
              "      --hover-bg-color: #E2EBFA;\n",
              "      --hover-fill-color: #174EA6;\n",
              "      --disabled-fill-color: #AAA;\n",
              "      --disabled-bg-color: #DDD;\n",
              "  }\n",
              "\n",
              "  [theme=dark] .colab-df-quickchart {\n",
              "      --bg-color: #3B4455;\n",
              "      --fill-color: #D2E3FC;\n",
              "      --hover-bg-color: #434B5C;\n",
              "      --hover-fill-color: #FFFFFF;\n",
              "      --disabled-bg-color: #3B4455;\n",
              "      --disabled-fill-color: #666;\n",
              "  }\n",
              "\n",
              "  .colab-df-quickchart {\n",
              "    background-color: var(--bg-color);\n",
              "    border: none;\n",
              "    border-radius: 50%;\n",
              "    cursor: pointer;\n",
              "    display: none;\n",
              "    fill: var(--fill-color);\n",
              "    height: 32px;\n",
              "    padding: 0;\n",
              "    width: 32px;\n",
              "  }\n",
              "\n",
              "  .colab-df-quickchart:hover {\n",
              "    background-color: var(--hover-bg-color);\n",
              "    box-shadow: 0 1px 2px rgba(60, 64, 67, 0.3), 0 1px 3px 1px rgba(60, 64, 67, 0.15);\n",
              "    fill: var(--button-hover-fill-color);\n",
              "  }\n",
              "\n",
              "  .colab-df-quickchart-complete:disabled,\n",
              "  .colab-df-quickchart-complete:disabled:hover {\n",
              "    background-color: var(--disabled-bg-color);\n",
              "    fill: var(--disabled-fill-color);\n",
              "    box-shadow: none;\n",
              "  }\n",
              "\n",
              "  .colab-df-spinner {\n",
              "    border: 2px solid var(--fill-color);\n",
              "    border-color: transparent;\n",
              "    border-bottom-color: var(--fill-color);\n",
              "    animation:\n",
              "      spin 1s steps(1) infinite;\n",
              "  }\n",
              "\n",
              "  @keyframes spin {\n",
              "    0% {\n",
              "      border-color: transparent;\n",
              "      border-bottom-color: var(--fill-color);\n",
              "      border-left-color: var(--fill-color);\n",
              "    }\n",
              "    20% {\n",
              "      border-color: transparent;\n",
              "      border-left-color: var(--fill-color);\n",
              "      border-top-color: var(--fill-color);\n",
              "    }\n",
              "    30% {\n",
              "      border-color: transparent;\n",
              "      border-left-color: var(--fill-color);\n",
              "      border-top-color: var(--fill-color);\n",
              "      border-right-color: var(--fill-color);\n",
              "    }\n",
              "    40% {\n",
              "      border-color: transparent;\n",
              "      border-right-color: var(--fill-color);\n",
              "      border-top-color: var(--fill-color);\n",
              "    }\n",
              "    60% {\n",
              "      border-color: transparent;\n",
              "      border-right-color: var(--fill-color);\n",
              "    }\n",
              "    80% {\n",
              "      border-color: transparent;\n",
              "      border-right-color: var(--fill-color);\n",
              "      border-bottom-color: var(--fill-color);\n",
              "    }\n",
              "    90% {\n",
              "      border-color: transparent;\n",
              "      border-bottom-color: var(--fill-color);\n",
              "    }\n",
              "  }\n",
              "</style>\n",
              "\n",
              "  <script>\n",
              "    async function quickchart(key) {\n",
              "      const quickchartButtonEl =\n",
              "        document.querySelector('#' + key + ' button');\n",
              "      quickchartButtonEl.disabled = true;  // To prevent multiple clicks.\n",
              "      quickchartButtonEl.classList.add('colab-df-spinner');\n",
              "      try {\n",
              "        const charts = await google.colab.kernel.invokeFunction(\n",
              "            'suggestCharts', [key], {});\n",
              "      } catch (error) {\n",
              "        console.error('Error during call to suggestCharts:', error);\n",
              "      }\n",
              "      quickchartButtonEl.classList.remove('colab-df-spinner');\n",
              "      quickchartButtonEl.classList.add('colab-df-quickchart-complete');\n",
              "    }\n",
              "    (() => {\n",
              "      let quickchartButtonEl =\n",
              "        document.querySelector('#df-f4c41f19-eeab-48fd-a8de-f056226ab4a7 button');\n",
              "      quickchartButtonEl.style.display =\n",
              "        google.colab.kernel.accessAllowed ? 'block' : 'none';\n",
              "    })();\n",
              "  </script>\n",
              "</div>\n",
              "\n",
              "    </div>\n",
              "  </div>\n"
            ],
            "application/vnd.google.colaboratory.intrinsic+json": {
              "type": "dataframe",
              "variable_name": "df"
            }
          },
          "metadata": {},
          "execution_count": 4
        }
      ]
    },
    {
      "cell_type": "code",
      "source": [
        "df.shape"
      ],
      "metadata": {
        "colab": {
          "base_uri": "https://localhost:8080/"
        },
        "id": "nITKVxEGrjhE",
        "outputId": "4e69c2b0-0000-41ac-f065-f8fc78eb8ee8"
      },
      "execution_count": 13,
      "outputs": [
        {
          "output_type": "execute_result",
          "data": {
            "text/plain": [
              "(15000, 22)"
            ]
          },
          "metadata": {},
          "execution_count": 13
        }
      ]
    },
    {
      "cell_type": "code",
      "source": [
        "df.info()"
      ],
      "metadata": {
        "colab": {
          "base_uri": "https://localhost:8080/"
        },
        "id": "XoPcZbpnqlXJ",
        "outputId": "ea5d2f8b-73fb-4065-eac7-38cf3442c10a"
      },
      "execution_count": 5,
      "outputs": [
        {
          "output_type": "stream",
          "name": "stdout",
          "text": [
            "<class 'pandas.core.frame.DataFrame'>\n",
            "RangeIndex: 15000 entries, 0 to 14999\n",
            "Data columns (total 22 columns):\n",
            " #   Column                    Non-Null Count  Dtype  \n",
            "---  ------                    --------------  -----  \n",
            " 0   Patient ID                15000 non-null  int64  \n",
            " 1   Patient Name              15000 non-null  object \n",
            " 2   Age                       15000 non-null  int64  \n",
            " 3   Gender                    15000 non-null  object \n",
            " 4   Hypertension              15000 non-null  int64  \n",
            " 5   Heart Disease             15000 non-null  int64  \n",
            " 6   Marital Status            15000 non-null  object \n",
            " 7   Work Type                 15000 non-null  object \n",
            " 8   Residence Type            15000 non-null  object \n",
            " 9   Average Glucose Level     15000 non-null  float64\n",
            " 10  Body Mass Index (BMI)     15000 non-null  float64\n",
            " 11  Smoking Status            15000 non-null  object \n",
            " 12  Alcohol Intake            15000 non-null  object \n",
            " 13  Physical Activity         15000 non-null  object \n",
            " 14  Stroke History            15000 non-null  int64  \n",
            " 15  Family History of Stroke  15000 non-null  object \n",
            " 16  Dietary Habits            15000 non-null  object \n",
            " 17  Stress Levels             15000 non-null  float64\n",
            " 18  Blood Pressure Levels     15000 non-null  object \n",
            " 19  Cholesterol Levels        15000 non-null  object \n",
            " 20  Symptoms                  12500 non-null  object \n",
            " 21  Diagnosis                 15000 non-null  object \n",
            "dtypes: float64(3), int64(5), object(14)\n",
            "memory usage: 2.5+ MB\n"
          ]
        }
      ]
    },
    {
      "cell_type": "code",
      "source": [
        "df.isna().sum()"
      ],
      "metadata": {
        "colab": {
          "base_uri": "https://localhost:8080/",
          "height": 774
        },
        "id": "TDOboRerqnbZ",
        "outputId": "e32dfb5b-0503-4cee-e2d3-3f87f79a0c97"
      },
      "execution_count": 8,
      "outputs": [
        {
          "output_type": "execute_result",
          "data": {
            "text/plain": [
              "Patient ID                     0\n",
              "Patient Name                   0\n",
              "Age                            0\n",
              "Gender                         0\n",
              "Hypertension                   0\n",
              "Heart Disease                  0\n",
              "Marital Status                 0\n",
              "Work Type                      0\n",
              "Residence Type                 0\n",
              "Average Glucose Level          0\n",
              "Body Mass Index (BMI)          0\n",
              "Smoking Status                 0\n",
              "Alcohol Intake                 0\n",
              "Physical Activity              0\n",
              "Stroke History                 0\n",
              "Family History of Stroke       0\n",
              "Dietary Habits                 0\n",
              "Stress Levels                  0\n",
              "Blood Pressure Levels          0\n",
              "Cholesterol Levels             0\n",
              "Symptoms                    2500\n",
              "Diagnosis                      0\n",
              "dtype: int64"
            ],
            "text/html": [
              "<div>\n",
              "<style scoped>\n",
              "    .dataframe tbody tr th:only-of-type {\n",
              "        vertical-align: middle;\n",
              "    }\n",
              "\n",
              "    .dataframe tbody tr th {\n",
              "        vertical-align: top;\n",
              "    }\n",
              "\n",
              "    .dataframe thead th {\n",
              "        text-align: right;\n",
              "    }\n",
              "</style>\n",
              "<table border=\"1\" class=\"dataframe\">\n",
              "  <thead>\n",
              "    <tr style=\"text-align: right;\">\n",
              "      <th></th>\n",
              "      <th>0</th>\n",
              "    </tr>\n",
              "  </thead>\n",
              "  <tbody>\n",
              "    <tr>\n",
              "      <th>Patient ID</th>\n",
              "      <td>0</td>\n",
              "    </tr>\n",
              "    <tr>\n",
              "      <th>Patient Name</th>\n",
              "      <td>0</td>\n",
              "    </tr>\n",
              "    <tr>\n",
              "      <th>Age</th>\n",
              "      <td>0</td>\n",
              "    </tr>\n",
              "    <tr>\n",
              "      <th>Gender</th>\n",
              "      <td>0</td>\n",
              "    </tr>\n",
              "    <tr>\n",
              "      <th>Hypertension</th>\n",
              "      <td>0</td>\n",
              "    </tr>\n",
              "    <tr>\n",
              "      <th>Heart Disease</th>\n",
              "      <td>0</td>\n",
              "    </tr>\n",
              "    <tr>\n",
              "      <th>Marital Status</th>\n",
              "      <td>0</td>\n",
              "    </tr>\n",
              "    <tr>\n",
              "      <th>Work Type</th>\n",
              "      <td>0</td>\n",
              "    </tr>\n",
              "    <tr>\n",
              "      <th>Residence Type</th>\n",
              "      <td>0</td>\n",
              "    </tr>\n",
              "    <tr>\n",
              "      <th>Average Glucose Level</th>\n",
              "      <td>0</td>\n",
              "    </tr>\n",
              "    <tr>\n",
              "      <th>Body Mass Index (BMI)</th>\n",
              "      <td>0</td>\n",
              "    </tr>\n",
              "    <tr>\n",
              "      <th>Smoking Status</th>\n",
              "      <td>0</td>\n",
              "    </tr>\n",
              "    <tr>\n",
              "      <th>Alcohol Intake</th>\n",
              "      <td>0</td>\n",
              "    </tr>\n",
              "    <tr>\n",
              "      <th>Physical Activity</th>\n",
              "      <td>0</td>\n",
              "    </tr>\n",
              "    <tr>\n",
              "      <th>Stroke History</th>\n",
              "      <td>0</td>\n",
              "    </tr>\n",
              "    <tr>\n",
              "      <th>Family History of Stroke</th>\n",
              "      <td>0</td>\n",
              "    </tr>\n",
              "    <tr>\n",
              "      <th>Dietary Habits</th>\n",
              "      <td>0</td>\n",
              "    </tr>\n",
              "    <tr>\n",
              "      <th>Stress Levels</th>\n",
              "      <td>0</td>\n",
              "    </tr>\n",
              "    <tr>\n",
              "      <th>Blood Pressure Levels</th>\n",
              "      <td>0</td>\n",
              "    </tr>\n",
              "    <tr>\n",
              "      <th>Cholesterol Levels</th>\n",
              "      <td>0</td>\n",
              "    </tr>\n",
              "    <tr>\n",
              "      <th>Symptoms</th>\n",
              "      <td>2500</td>\n",
              "    </tr>\n",
              "    <tr>\n",
              "      <th>Diagnosis</th>\n",
              "      <td>0</td>\n",
              "    </tr>\n",
              "  </tbody>\n",
              "</table>\n",
              "</div><br><label><b>dtype:</b> int64</label>"
            ]
          },
          "metadata": {},
          "execution_count": 8
        }
      ]
    },
    {
      "cell_type": "code",
      "source": [
        "df['Work Type'].unique()"
      ],
      "metadata": {
        "colab": {
          "base_uri": "https://localhost:8080/"
        },
        "id": "6pCoPfxrrAcO",
        "outputId": "ff2f9330-8e20-4676-e3f3-c7f428d6327a"
      },
      "execution_count": 11,
      "outputs": [
        {
          "output_type": "execute_result",
          "data": {
            "text/plain": [
              "array(['Self-employed', 'Never Worked', 'Private', 'Government Job'],\n",
              "      dtype=object)"
            ]
          },
          "metadata": {},
          "execution_count": 11
        }
      ]
    },
    {
      "cell_type": "code",
      "source": [
        "df['Stress Levels'].mode()"
      ],
      "metadata": {
        "colab": {
          "base_uri": "https://localhost:8080/",
          "height": 147
        },
        "id": "KXkEd12BrPeu",
        "outputId": "39933d14-2676-4c3f-a1c0-ac48999d98a7"
      },
      "execution_count": 14,
      "outputs": [
        {
          "output_type": "execute_result",
          "data": {
            "text/plain": [
              "0    2.08\n",
              "1    6.32\n",
              "Name: Stress Levels, dtype: float64"
            ],
            "text/html": [
              "<div>\n",
              "<style scoped>\n",
              "    .dataframe tbody tr th:only-of-type {\n",
              "        vertical-align: middle;\n",
              "    }\n",
              "\n",
              "    .dataframe tbody tr th {\n",
              "        vertical-align: top;\n",
              "    }\n",
              "\n",
              "    .dataframe thead th {\n",
              "        text-align: right;\n",
              "    }\n",
              "</style>\n",
              "<table border=\"1\" class=\"dataframe\">\n",
              "  <thead>\n",
              "    <tr style=\"text-align: right;\">\n",
              "      <th></th>\n",
              "      <th>Stress Levels</th>\n",
              "    </tr>\n",
              "  </thead>\n",
              "  <tbody>\n",
              "    <tr>\n",
              "      <th>0</th>\n",
              "      <td>2.08</td>\n",
              "    </tr>\n",
              "    <tr>\n",
              "      <th>1</th>\n",
              "      <td>6.32</td>\n",
              "    </tr>\n",
              "  </tbody>\n",
              "</table>\n",
              "</div><br><label><b>dtype:</b> float64</label>"
            ]
          },
          "metadata": {},
          "execution_count": 14
        }
      ]
    },
    {
      "cell_type": "code",
      "source": [
        "df['Stress Levels'].mean()"
      ],
      "metadata": {
        "colab": {
          "base_uri": "https://localhost:8080/"
        },
        "id": "TBahPCflrx89",
        "outputId": "ae18006c-0732-4c8d-943e-e1e2970f6034"
      },
      "execution_count": 15,
      "outputs": [
        {
          "output_type": "execute_result",
          "data": {
            "text/plain": [
              "5.022694"
            ]
          },
          "metadata": {},
          "execution_count": 15
        }
      ]
    },
    {
      "cell_type": "code",
      "source": [
        "df['Stress Levels'].median()"
      ],
      "metadata": {
        "colab": {
          "base_uri": "https://localhost:8080/"
        },
        "id": "1Qzxprezr4KO",
        "outputId": "b9dac4e5-1166-4d76-afd9-1c8e65338d9a"
      },
      "execution_count": 16,
      "outputs": [
        {
          "output_type": "execute_result",
          "data": {
            "text/plain": [
              "5.05"
            ]
          },
          "metadata": {},
          "execution_count": 16
        }
      ]
    },
    {
      "cell_type": "code",
      "source": [
        "import numpy as np\n",
        "# Calculate Q1 and Q3\n",
        "Q1 = df['Stress Levels'].quantile(0.25)\n",
        "Q3 = df['Stress Levels'].quantile(0.75)\n",
        "\n",
        "# Calculate IQR\n",
        "IQR = Q3 - Q1\n",
        "\n",
        "# Define the bounds\n",
        "lower_bound = Q1 - 1.5 * IQR\n",
        "upper_bound = Q3 + 1.5 * IQR\n",
        "\n",
        "# Identify outliers\n",
        "outliers = df[(df['Stress Levels'] < lower_bound) | (df['Stress Levels'] > upper_bound)]\n",
        "\n",
        "print(\"Potential Outliers based on IQR Method:\\n\")\n",
        "if outliers.empty:\n",
        "    print(\"No outliers were detected using the IQR method because all the data points in the dataset fall within the calculated bounds.\")\n",
        "else:\n",
        "    print(outliers)\n"
      ],
      "metadata": {
        "colab": {
          "base_uri": "https://localhost:8080/"
        },
        "id": "yXfkYudXwBFM",
        "outputId": "1ed732f8-d566-4f5e-fe7f-f1f1786154bc"
      },
      "execution_count": 35,
      "outputs": [
        {
          "output_type": "stream",
          "name": "stdout",
          "text": [
            "Potential Outliers based on IQR Method:\n",
            "\n",
            "No outliers found.\n",
            "\n",
            "No outliers were detected using the IQR method because all the data points in the dataset fall within the calculated bounds.\n"
          ]
        }
      ]
    },
    {
      "cell_type": "code",
      "source": [
        "import seaborn as sns\n",
        "import matplotlib.pyplot as plt\n",
        "numerical_df = df.select_dtypes(include=['int64', 'float64']).drop(columns=['Patient ID'])\n",
        "correlation_matrix = numerical_df.corr()\n",
        "\n",
        "plt.figure(figsize=(10, 8))\n",
        "sns.heatmap(correlation_matrix, annot=True, cmap='coolwarm')\n",
        "plt.title('Correlation Matrix')\n",
        "plt.show()"
      ],
      "metadata": {
        "colab": {
          "base_uri": "https://localhost:8080/",
          "height": 842
        },
        "id": "3epH4rI8zYv-",
        "outputId": "b1b95014-ea3c-433a-b0f4-41ac00bb8d60"
      },
      "execution_count": 42,
      "outputs": [
        {
          "output_type": "display_data",
          "data": {
            "text/plain": [
              "<Figure size 1000x800 with 2 Axes>"
            ],
            "image/png": "[encoded data removed]"
          },
          "metadata": {}
        }
      ]
    },
    {
      "cell_type": "markdown",
      "source": [
        "None of the variables show strong correlations (values close to 1 or -1) with each other. This means that the variables in this dataset do not have strong linear relationships.\n",
        "* this suggests that these variables might be relatively independent of each other\n"
      ],
      "metadata": {
        "id": "0nIQoGHE1ghZ"
      }
    },
    {
      "cell_type": "code",
      "source": [
        "grouped_data = df.groupby('Work Type')['Stress Levels'].mean()\n",
        "\n",
        "print(grouped_data)\n"
      ],
      "metadata": {
        "colab": {
          "base_uri": "https://localhost:8080/"
        },
        "id": "njEuZ7tx0hNw",
        "outputId": "e684be72-af28-4d94-cd16-4b797f64089a"
      },
      "execution_count": 43,
      "outputs": [
        {
          "output_type": "stream",
          "name": "stdout",
          "text": [
            "Work Type\n",
            "Government Job    5.007981\n",
            "Never Worked      4.961607\n",
            "Private           5.028103\n",
            "Self-employed     5.088036\n",
            "Name: Stress Levels, dtype: float64\n"
          ]
        }
      ]
    },
    {
      "cell_type": "markdown",
      "source": [
        "* There are 2500 null values in the column \"Symptoms\".\n",
        "There are no outliers in the \"Stress Level\" column.\n",
        "There is no correlation between any of the numerical columns, meaning all the variables are independent of each other.there is 2500 null values in the coloumn symptoms\n",
        "* there is no outliers in the coloumn stress level\n",
        "* there is no correlation between any of the numerical coloumns that is all the variables are independent od each ither\n"
      ],
      "metadata": {
        "id": "M0PMDkEW3Cjv"
      }
    }
  ]
}