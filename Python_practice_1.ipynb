{
  "nbformat": 4,
  "nbformat_minor": 0,
  "metadata": {
    "colab": {
      "provenance": [],
      "authorship_tag": "ABX9TyPnubHIO55RgwM1lrxgMwN+",
      "include_colab_link": true
    },
    "kernelspec": {
      "name": "python3",
      "display_name": "Python 3"
    },
    "language_info": {
      "name": "python"
    }
  },
  "cells": [
    {
      "cell_type": "markdown",
      "metadata": {
        "id": "view-in-github",
        "colab_type": "text"
      },
      "source": [
        "<a href=\"https://colab.research.google.com/github/nafl13/ICT_DSA/blob/Assignments/Python_practice_1.ipynb\" target=\"_parent\"><img src=\"https://colab.research.google.com/assets/colab-badge.svg\" alt=\"Open In Colab\"/></a>"
      ]
    },
    {
      "cell_type": "code",
      "execution_count": 4,
      "metadata": {
        "colab": {
          "base_uri": "https://localhost:8080/"
        },
        "id": "Dr9_eWKkQ1zk",
        "outputId": "2dbfaa47-066b-4174-a9f2-c09749f6c867"
      },
      "outputs": [
        {
          "output_type": "stream",
          "name": "stdout",
          "text": [
            "Enter the radius: 3\n",
            "Area of Circle is : 28.274333882308138\n"
          ]
        }
      ],
      "source": [
        "import math\n",
        "radius = float(input(\"Enter the radius: \"))\n",
        "area = math.pi * (radius ** 2)\n",
        "print(f\"Area of Circle is : {area}\")"
      ]
    },
    {
      "cell_type": "code",
      "source": [
        "name = input(\"Enter the name: \")\n",
        "roll_no = input(\"Enter the roll number: \")\n",
        "mark = input(\"Enter the mark: \")\n",
        "\n",
        "print(\"\\nStudent Details:\")\n",
        "print(f\"Name: {name}\\nRoll No: {roll_no}\\nMark: {mark}\")"
      ],
      "metadata": {
        "colab": {
          "base_uri": "https://localhost:8080/"
        },
        "id": "igiakbJHRtmC",
        "outputId": "9a9f61c3-a78d-4286-8e89-2144504276b1"
      },
      "execution_count": 7,
      "outputs": [
        {
          "output_type": "stream",
          "name": "stdout",
          "text": [
            "Enter the name: Nafl\n",
            "Enter the roll number: 7\n",
            "Enter the mark: 55\n",
            "\n",
            "Student Details:\n",
            "Name: Nafl\n",
            "Roll No: 7\n",
            "Mark: 55\n"
          ]
        }
      ]
    },
    {
      "cell_type": "code",
      "source": [
        "numbers_list = []\n",
        "num_elements = int(input(\"Enter the number of elements: \"))\n",
        "for i in range(num_elements):\n",
        "    number = int(input(f\"Enter number {i + 1}: \"))\n",
        "    numbers_list.append(number)\n",
        "largest_number = max(numbers_list)\n",
        "print(f\"{largest_number} is the largest number.\")"
      ],
      "metadata": {
        "colab": {
          "base_uri": "https://localhost:8080/"
        },
        "id": "FMKjAYqwSQXv",
        "outputId": "97ae318b-8064-487d-9638-34eefb39aa77"
      },
      "execution_count": 10,
      "outputs": [
        {
          "output_type": "stream",
          "name": "stdout",
          "text": [
            "Enter the number of elements: 4\n",
            "Enter number 1: 12\n",
            "Enter number 2: 3\n",
            "Enter number 3: 47\n",
            "Enter number 4: 10\n",
            "47 is the largest number.\n"
          ]
        }
      ]
    },
    {
      "cell_type": "code",
      "source": [
        "starting = int(input(\"Enter the Starting Number: \"))\n",
        "previous_number = starting - 1\n",
        "for current_number in range(starting , starting + 10):\n",
        "    sum_of_numbers = current_number + previous_number\n",
        "    print(f\"Current Number {current_number} Previous Number {previous_number} Sum: {sum_of_numbers}\")\n",
        "    previous_number = current_number\n"
      ],
      "metadata": {
        "colab": {
          "base_uri": "https://localhost:8080/"
        },
        "id": "nE1RfPUjT6_Z",
        "outputId": "525eef92-55ab-48e6-b54b-c72959a6ab99"
      },
      "execution_count": 12,
      "outputs": [
        {
          "output_type": "stream",
          "name": "stdout",
          "text": [
            "Enter the Starting Number: 1\n",
            "Current Number 1 Previous Number 0 Sum: 1\n",
            "Current Number 2 Previous Number 1 Sum: 3\n",
            "Current Number 3 Previous Number 2 Sum: 5\n",
            "Current Number 4 Previous Number 3 Sum: 7\n",
            "Current Number 5 Previous Number 4 Sum: 9\n",
            "Current Number 6 Previous Number 5 Sum: 11\n",
            "Current Number 7 Previous Number 6 Sum: 13\n",
            "Current Number 8 Previous Number 7 Sum: 15\n",
            "Current Number 9 Previous Number 8 Sum: 17\n",
            "Current Number 10 Previous Number 9 Sum: 19\n"
          ]
        }
      ]
    },
    {
      "cell_type": "code",
      "source": [
        "numbers_list = []\n",
        "num_elements = int(input(\"Enter the number of elements: \"))\n",
        "for i in range(num_elements):\n",
        "    number = int(input(f\"Enter number {i + 1}: \"))\n",
        "    numbers_list.append(number)\n",
        "print(\"Numbers divisible by 5: \\n\")\n",
        "for i in range(num_elements):\n",
        "    if numbers_list[i] % 5 == 0:\n",
        "        print(numbers_list[i])"
      ],
      "metadata": {
        "colab": {
          "base_uri": "https://localhost:8080/"
        },
        "id": "M-Dk1qo9U7oe",
        "outputId": "e3d94df3-bba6-4545-c8f8-25710deae363"
      },
      "execution_count": 13,
      "outputs": [
        {
          "output_type": "stream",
          "name": "stdout",
          "text": [
            "Enter the number of elements: 5\n",
            "Enter number 1: 10\n",
            "Enter number 2: 20\n",
            "Enter number 3: 33\n",
            "Enter number 4: 46\n",
            "Enter number 5: 55\n",
            "Numbers divisible by 5: \n",
            "\n",
            "10\n",
            "20\n",
            "55\n"
          ]
        }
      ]
    },
    {
      "cell_type": "code",
      "source": [
        "def is_prime(num):\n",
        "    if num <= 1:\n",
        "        return False\n",
        "    for i in range(2, int(num**0.5) + 1):\n",
        "        if num % i == 0:\n",
        "            return False\n",
        "    return True\n",
        "\n",
        "number = int(input(\"Enter the number: \"))\n",
        "if is_prime(number):\n",
        "    print(f\"{number} is a prime number.\")\n",
        "else:\n",
        "    print(f\"{number} is not a prime number.\")"
      ],
      "metadata": {
        "colab": {
          "base_uri": "https://localhost:8080/"
        },
        "id": "xAU_0FG6WFO7",
        "outputId": "6ca8eaf9-557d-4a08-d7be-3c3434b46d24"
      },
      "execution_count": 21,
      "outputs": [
        {
          "output_type": "stream",
          "name": "stdout",
          "text": [
            "Enter the number: 3\n",
            "3 is a prime number.\n"
          ]
        }
      ]
    },
    {
      "cell_type": "code",
      "source": [
        "numbers_list = []\n",
        "num_elements = int(input(\"Enter the number of elements: \"))\n",
        "for i in range(num_elements):\n",
        "    number = int(input(f\"Enter number {i + 1}: \"))\n",
        "    numbers_list.append(number)\n",
        "reversed_list = []\n",
        "for i in range(len(numbers_list) -1, -1,-1):\n",
        "    reversed_list.append(numbers_list[i])\n",
        "print(f\"Reversed list: {reversed_list}\" + ', ')\n"
      ],
      "metadata": {
        "colab": {
          "base_uri": "https://localhost:8080/"
        },
        "id": "C1ypODHjWwP-",
        "outputId": "789bb1bf-9d03-40a1-da3a-5e80e48ec126"
      },
      "execution_count": 42,
      "outputs": [
        {
          "output_type": "stream",
          "name": "stdout",
          "text": [
            "Enter the number of elements: 4\n",
            "Enter number 1: 10\n",
            "Enter number 2: 30\n",
            "Enter number 3: 60\n",
            "Enter number 4: 80\n",
            "Reversed list: [80, 60, 30, 10], \n"
          ]
        }
      ]
    },
    {
      "cell_type": "code",
      "source": [
        "num_lines = int(input(\"Enter the number of lines: \"))\n",
        "for i in range(1, num_lines + 1):\n",
        "    print('*' * i)\n"
      ],
      "metadata": {
        "colab": {
          "base_uri": "https://localhost:8080/"
        },
        "id": "40DynXvvYPCF",
        "outputId": "0f403e04-511a-40b8-ac69-821c62e60374"
      },
      "execution_count": 43,
      "outputs": [
        {
          "output_type": "stream",
          "name": "stdout",
          "text": [
            "Enter the number of lines: 4\n",
            "*\n",
            "**\n",
            "***\n",
            "****\n"
          ]
        }
      ]
    },
    {
      "cell_type": "code",
      "source": [
        "numbers = []\n",
        "for i in range(3):\n",
        "    number = int(input(f\"Enter number {i + 1}: \"))\n",
        "    numbers.append(number)\n",
        "\n",
        "maximum_number = numbers[0]\n",
        "for num in numbers:\n",
        "    if num > maximum_number:\n",
        "        maximum_number = num\n",
        "print(maximum_number)\n"
      ],
      "metadata": {
        "colab": {
          "base_uri": "https://localhost:8080/"
        },
        "id": "s-a77ZDVax4_",
        "outputId": "9dd07855-a255-4cdb-d72c-307fdfbf9d6d"
      },
      "execution_count": 44,
      "outputs": [
        {
          "output_type": "stream",
          "name": "stdout",
          "text": [
            "Enter number 1: 34\n",
            "Enter number 2: 12\n",
            "Enter number 3: 7\n",
            "34\n"
          ]
        }
      ]
    },
    {
      "cell_type": "code",
      "source": [
        "max_stars = int(input(\"Enter the maximum number of stars: \"))\n",
        "for i in range(1, max_stars + 1):\n",
        "    print('*' * i)\n",
        "for i in range(max_stars - 1, 0, -1):\n",
        "    print('*' * i)\n"
      ],
      "metadata": {
        "colab": {
          "base_uri": "https://localhost:8080/"
        },
        "id": "mbn-RCwkbNxD",
        "outputId": "2476e3fb-3180-4037-a771-b622b87e2053"
      },
      "execution_count": 45,
      "outputs": [
        {
          "output_type": "stream",
          "name": "stdout",
          "text": [
            "Enter the maximum number of stars: 5\n",
            "*\n",
            "**\n",
            "***\n",
            "****\n",
            "*****\n",
            "****\n",
            "***\n",
            "**\n",
            "*\n"
          ]
        }
      ]
    }
  ]
}